{
  "nbformat": 4,
  "nbformat_minor": 0,
  "metadata": {
    "colab": {
      "name": "Sentiment_Analyzer.ipynb",
      "provenance": [],
      "authorship_tag": "ABX9TyN76jeH5od6uAI+J1UjAewW",
      "include_colab_link": true
    },
    "kernelspec": {
      "name": "python3",
      "display_name": "Python 3"
    },
    "language_info": {
      "name": "python"
    }
  },
  "cells": [
    {
      "cell_type": "markdown",
      "metadata": {
        "id": "view-in-github",
        "colab_type": "text"
      },
      "source": [
        "<a href=\"https://colab.research.google.com/github/SubalakshmiAriyaselvam/ML-MAJOR-MAY/blob/main/Sentiment_Analyzer.ipynb\" target=\"_parent\"><img src=\"https://colab.research.google.com/assets/colab-badge.svg\" alt=\"Open In Colab\"/></a>"
      ]
    },
    {
      "cell_type": "markdown",
      "metadata": {
        "id": "5WhJ1bYgqUlL"
      },
      "source": [
        "Required Libraries"
      ]
    },
    {
      "cell_type": "code",
      "metadata": {
        "id": "-RmNxGvxp5iP"
      },
      "source": [
        "import pandas as pd\n",
        "import numpy as np\n",
        "from textblob import TextBlob\n",
        "import matplotlib.pyplot as plt        #Visualisation\n",
        "import seaborn as sns                  #Visualisation\n",
        "%matplotlib inline"
      ],
      "execution_count": 1,
      "outputs": []
    },
    {
      "cell_type": "markdown",
      "metadata": {
        "id": "PYiFLIWrqeKH"
      },
      "source": [
        "Reading the dataset"
      ]
    },
    {
      "cell_type": "code",
      "metadata": {
        "colab": {
          "base_uri": "https://localhost:8080/",
          "height": 203
        },
        "id": "VLj7R7WQqe-3",
        "outputId": "4b2458ce-5077-4e41-da46-4733db38c66d"
      },
      "source": [
        "dataset = pd.read_csv(\"https://raw.githubusercontent.com/sharmaroshan/Twitter-Sentiment-Analysis/master/train_tweet.csv\")\n",
        "dataset.head()"
      ],
      "execution_count": 2,
      "outputs": [
        {
          "output_type": "execute_result",
          "data": {
            "text/html": [
              "<div>\n",
              "<style scoped>\n",
              "    .dataframe tbody tr th:only-of-type {\n",
              "        vertical-align: middle;\n",
              "    }\n",
              "\n",
              "    .dataframe tbody tr th {\n",
              "        vertical-align: top;\n",
              "    }\n",
              "\n",
              "    .dataframe thead th {\n",
              "        text-align: right;\n",
              "    }\n",
              "</style>\n",
              "<table border=\"1\" class=\"dataframe\">\n",
              "  <thead>\n",
              "    <tr style=\"text-align: right;\">\n",
              "      <th></th>\n",
              "      <th>id</th>\n",
              "      <th>label</th>\n",
              "      <th>tweet</th>\n",
              "    </tr>\n",
              "  </thead>\n",
              "  <tbody>\n",
              "    <tr>\n",
              "      <th>0</th>\n",
              "      <td>1</td>\n",
              "      <td>0</td>\n",
              "      <td>@user when a father is dysfunctional and is s...</td>\n",
              "    </tr>\n",
              "    <tr>\n",
              "      <th>1</th>\n",
              "      <td>2</td>\n",
              "      <td>0</td>\n",
              "      <td>@user @user thanks for #lyft credit i can't us...</td>\n",
              "    </tr>\n",
              "    <tr>\n",
              "      <th>2</th>\n",
              "      <td>3</td>\n",
              "      <td>0</td>\n",
              "      <td>bihday your majesty</td>\n",
              "    </tr>\n",
              "    <tr>\n",
              "      <th>3</th>\n",
              "      <td>4</td>\n",
              "      <td>0</td>\n",
              "      <td>#model   i love u take with u all the time in ...</td>\n",
              "    </tr>\n",
              "    <tr>\n",
              "      <th>4</th>\n",
              "      <td>5</td>\n",
              "      <td>0</td>\n",
              "      <td>factsguide: society now    #motivation</td>\n",
              "    </tr>\n",
              "  </tbody>\n",
              "</table>\n",
              "</div>"
            ],
            "text/plain": [
              "   id  label                                              tweet\n",
              "0   1      0   @user when a father is dysfunctional and is s...\n",
              "1   2      0  @user @user thanks for #lyft credit i can't us...\n",
              "2   3      0                                bihday your majesty\n",
              "3   4      0  #model   i love u take with u all the time in ...\n",
              "4   5      0             factsguide: society now    #motivation"
            ]
          },
          "metadata": {
            "tags": []
          },
          "execution_count": 2
        }
      ]
    },
    {
      "cell_type": "code",
      "metadata": {
        "colab": {
          "base_uri": "https://localhost:8080/",
          "height": 203
        },
        "id": "utbHR5lbqpoo",
        "outputId": "7a325992-23da-4563-e00c-38a93b59d145"
      },
      "source": [
        "dataset.tail()"
      ],
      "execution_count": 3,
      "outputs": [
        {
          "output_type": "execute_result",
          "data": {
            "text/html": [
              "<div>\n",
              "<style scoped>\n",
              "    .dataframe tbody tr th:only-of-type {\n",
              "        vertical-align: middle;\n",
              "    }\n",
              "\n",
              "    .dataframe tbody tr th {\n",
              "        vertical-align: top;\n",
              "    }\n",
              "\n",
              "    .dataframe thead th {\n",
              "        text-align: right;\n",
              "    }\n",
              "</style>\n",
              "<table border=\"1\" class=\"dataframe\">\n",
              "  <thead>\n",
              "    <tr style=\"text-align: right;\">\n",
              "      <th></th>\n",
              "      <th>id</th>\n",
              "      <th>label</th>\n",
              "      <th>tweet</th>\n",
              "    </tr>\n",
              "  </thead>\n",
              "  <tbody>\n",
              "    <tr>\n",
              "      <th>31957</th>\n",
              "      <td>31958</td>\n",
              "      <td>0</td>\n",
              "      <td>ate @user isz that youuu?ðððððð...</td>\n",
              "    </tr>\n",
              "    <tr>\n",
              "      <th>31958</th>\n",
              "      <td>31959</td>\n",
              "      <td>0</td>\n",
              "      <td>to see nina turner on the airwaves trying to...</td>\n",
              "    </tr>\n",
              "    <tr>\n",
              "      <th>31959</th>\n",
              "      <td>31960</td>\n",
              "      <td>0</td>\n",
              "      <td>listening to sad songs on a monday morning otw...</td>\n",
              "    </tr>\n",
              "    <tr>\n",
              "      <th>31960</th>\n",
              "      <td>31961</td>\n",
              "      <td>1</td>\n",
              "      <td>@user #sikh #temple vandalised in in #calgary,...</td>\n",
              "    </tr>\n",
              "    <tr>\n",
              "      <th>31961</th>\n",
              "      <td>31962</td>\n",
              "      <td>0</td>\n",
              "      <td>thank you @user for you follow</td>\n",
              "    </tr>\n",
              "  </tbody>\n",
              "</table>\n",
              "</div>"
            ],
            "text/plain": [
              "          id  label                                              tweet\n",
              "31957  31958      0  ate @user isz that youuu?ðððððð...\n",
              "31958  31959      0    to see nina turner on the airwaves trying to...\n",
              "31959  31960      0  listening to sad songs on a monday morning otw...\n",
              "31960  31961      1  @user #sikh #temple vandalised in in #calgary,...\n",
              "31961  31962      0                   thank you @user for you follow  "
            ]
          },
          "metadata": {
            "tags": []
          },
          "execution_count": 3
        }
      ]
    },
    {
      "cell_type": "markdown",
      "metadata": {
        "id": "Uix9u5Yuqsso"
      },
      "source": [
        "Information about the dataset"
      ]
    },
    {
      "cell_type": "code",
      "metadata": {
        "colab": {
          "base_uri": "https://localhost:8080/"
        },
        "id": "NOdNPkbxquA6",
        "outputId": "9a032057-21c9-441f-ea16-90537929e5cb"
      },
      "source": [
        "dataset.info()"
      ],
      "execution_count": 5,
      "outputs": [
        {
          "output_type": "stream",
          "text": [
            "<class 'pandas.core.frame.DataFrame'>\n",
            "RangeIndex: 31962 entries, 0 to 31961\n",
            "Data columns (total 3 columns):\n",
            " #   Column  Non-Null Count  Dtype \n",
            "---  ------  --------------  ----- \n",
            " 0   id      31962 non-null  int64 \n",
            " 1   label   31962 non-null  int64 \n",
            " 2   tweet   31962 non-null  object\n",
            "dtypes: int64(2), object(1)\n",
            "memory usage: 749.2+ KB\n"
          ],
          "name": "stdout"
        }
      ]
    },
    {
      "cell_type": "code",
      "metadata": {
        "colab": {
          "base_uri": "https://localhost:8080/"
        },
        "id": "FQgqVAluqyyC",
        "outputId": "7d20c1a0-f026-41a6-f88e-5c31dfdaea7c"
      },
      "source": [
        "dataset['label'].value_counts()"
      ],
      "execution_count": 6,
      "outputs": [
        {
          "output_type": "execute_result",
          "data": {
            "text/plain": [
              "0    29720\n",
              "1     2242\n",
              "Name: label, dtype: int64"
            ]
          },
          "metadata": {
            "tags": []
          },
          "execution_count": 6
        }
      ]
    },
    {
      "cell_type": "markdown",
      "metadata": {
        "id": "QWB21ql6q2aq"
      },
      "source": [
        "Plotting of the Racist and Non-racist tweets in the dataset"
      ]
    },
    {
      "cell_type": "code",
      "metadata": {
        "colab": {
          "base_uri": "https://localhost:8080/",
          "height": 350
        },
        "id": "5HoAysS7q5TR",
        "outputId": "68cd6a44-8569-448f-8e83-d4d1990e07e3"
      },
      "source": [
        "sns.countplot(dataset['label'])"
      ],
      "execution_count": 7,
      "outputs": [
        {
          "output_type": "stream",
          "text": [
            "/usr/local/lib/python3.7/dist-packages/seaborn/_decorators.py:43: FutureWarning: Pass the following variable as a keyword arg: x. From version 0.12, the only valid positional argument will be `data`, and passing other arguments without an explicit keyword will result in an error or misinterpretation.\n",
            "  FutureWarning\n"
          ],
          "name": "stderr"
        },
        {
          "output_type": "execute_result",
          "data": {
            "text/plain": [
              "<matplotlib.axes._subplots.AxesSubplot at 0x7fee293c1490>"
            ]
          },
          "metadata": {
            "tags": []
          },
          "execution_count": 7
        },
        {
          "output_type": "display_data",
          "data": {
            "image/png": "[encoded data removed]",
            "text/plain": [
              "<Figure size 432x288 with 1 Axes>"
            ]
          },
          "metadata": {
            "tags": [],
            "needs_background": "light"
          }
        }
      ]
    },
    {
      "cell_type": "code",
      "metadata": {
        "colab": {
          "base_uri": "https://localhost:8080/"
        },
        "id": "mWgxO_AWq8VH",
        "outputId": "a93394a0-9a5c-4914-e901-c1dd63680b67"
      },
      "source": [
        "dataset= dataset.dropna()\n",
        "dataset.info()"
      ],
      "execution_count": 8,
      "outputs": [
        {
          "output_type": "stream",
          "text": [
            "<class 'pandas.core.frame.DataFrame'>\n",
            "Int64Index: 31962 entries, 0 to 31961\n",
            "Data columns (total 3 columns):\n",
            " #   Column  Non-Null Count  Dtype \n",
            "---  ------  --------------  ----- \n",
            " 0   id      31962 non-null  int64 \n",
            " 1   label   31962 non-null  int64 \n",
            " 2   tweet   31962 non-null  object\n",
            "dtypes: int64(2), object(1)\n",
            "memory usage: 998.8+ KB\n"
          ],
          "name": "stdout"
        }
      ]
    },
    {
      "cell_type": "code",
      "metadata": {
        "colab": {
          "base_uri": "https://localhost:8080/",
          "height": 203
        },
        "id": "I1EZF8V6q_Al",
        "outputId": "07e1fde3-40a6-4e57-ced6-62b5e4afb010"
      },
      "source": [
        "x=dataset.drop(\"id\",axis=1)\n",
        "x.head()"
      ],
      "execution_count": 9,
      "outputs": [
        {
          "output_type": "execute_result",
          "data": {
            "text/html": [
              "<div>\n",
              "<style scoped>\n",
              "    .dataframe tbody tr th:only-of-type {\n",
              "        vertical-align: middle;\n",
              "    }\n",
              "\n",
              "    .dataframe tbody tr th {\n",
              "        vertical-align: top;\n",
              "    }\n",
              "\n",
              "    .dataframe thead th {\n",
              "        text-align: right;\n",
              "    }\n",
              "</style>\n",
              "<table border=\"1\" class=\"dataframe\">\n",
              "  <thead>\n",
              "    <tr style=\"text-align: right;\">\n",
              "      <th></th>\n",
              "      <th>label</th>\n",
              "      <th>tweet</th>\n",
              "    </tr>\n",
              "  </thead>\n",
              "  <tbody>\n",
              "    <tr>\n",
              "      <th>0</th>\n",
              "      <td>0</td>\n",
              "      <td>@user when a father is dysfunctional and is s...</td>\n",
              "    </tr>\n",
              "    <tr>\n",
              "      <th>1</th>\n",
              "      <td>0</td>\n",
              "      <td>@user @user thanks for #lyft credit i can't us...</td>\n",
              "    </tr>\n",
              "    <tr>\n",
              "      <th>2</th>\n",
              "      <td>0</td>\n",
              "      <td>bihday your majesty</td>\n",
              "    </tr>\n",
              "    <tr>\n",
              "      <th>3</th>\n",
              "      <td>0</td>\n",
              "      <td>#model   i love u take with u all the time in ...</td>\n",
              "    </tr>\n",
              "    <tr>\n",
              "      <th>4</th>\n",
              "      <td>0</td>\n",
              "      <td>factsguide: society now    #motivation</td>\n",
              "    </tr>\n",
              "  </tbody>\n",
              "</table>\n",
              "</div>"
            ],
            "text/plain": [
              "   label                                              tweet\n",
              "0      0   @user when a father is dysfunctional and is s...\n",
              "1      0  @user @user thanks for #lyft credit i can't us...\n",
              "2      0                                bihday your majesty\n",
              "3      0  #model   i love u take with u all the time in ...\n",
              "4      0             factsguide: society now    #motivation"
            ]
          },
          "metadata": {
            "tags": []
          },
          "execution_count": 9
        }
      ]
    },
    {
      "cell_type": "code",
      "metadata": {
        "colab": {
          "base_uri": "https://localhost:8080/"
        },
        "id": "HTDRBdiarBq_",
        "outputId": "08a1b23f-55df-4b68-dd07-75d744447aac"
      },
      "source": [
        "print(\" The shape of X is:\", x.shape)"
      ],
      "execution_count": 10,
      "outputs": [
        {
          "output_type": "stream",
          "text": [
            " The shape of X is: (31962, 2)\n"
          ],
          "name": "stdout"
        }
      ]
    },
    {
      "cell_type": "code",
      "metadata": {
        "id": "MyeUuEasrE2R"
      },
      "source": [
        "import nltk\n",
        "## re -- regular expression\n",
        "import re\n",
        "from nltk.corpus import stopwords"
      ],
      "execution_count": 11,
      "outputs": []
    },
    {
      "cell_type": "code",
      "metadata": {
        "colab": {
          "base_uri": "https://localhost:8080/"
        },
        "id": "UDA9KwKkrHm4",
        "outputId": "f266067e-7e08-4f31-c15e-7db49cd1264f"
      },
      "source": [
        "#install tweet-preprocessor to clean tweets\n",
        "!pip install tweet-preprocessor"
      ],
      "execution_count": 12,
      "outputs": [
        {
          "output_type": "stream",
          "text": [
            "Collecting tweet-preprocessor\n",
            "  Downloading https://files.pythonhosted.org/packages/17/9d/71bd016a9edcef8860c607e531f30bd09b13103c7951ae73dd2bf174163c/tweet_preprocessor-0.6.0-py3-none-any.whl\n",
            "Installing collected packages: tweet-preprocessor\n",
            "Successfully installed tweet-preprocessor-0.6.0\n"
          ],
          "name": "stdout"
        }
      ]
    },
    {
      "cell_type": "code",
      "metadata": {
        "id": "9Gvg8M69rMLd"
      },
      "source": [
        "# remove special characters using the regular expression library\n",
        "import re\n",
        "\n",
        "#set up punctuations we want to be replaced\n",
        "REPLACE_NO_SPACE = re.compile(\"(\\.)|(\\;)|(\\:)|(\\!)|(\\')|(\\?)|(\\,)|(\\\")|(\\|)|(\\()|(\\))|(\\[)|(\\])|(\\%)|(\\$)|(\\>)|(\\<)|(\\{)|(\\})\")\n",
        "REPLACE_WITH_SPACE = re.compile(\"(<br\\s/><br\\s/?)|(-)|(/)|(:).\")"
      ],
      "execution_count": 13,
      "outputs": []
    },
    {
      "cell_type": "code",
      "metadata": {
        "id": "lyWn32_0lLrO"
      },
      "source": [
        "import preprocessor as p\n",
        "\n",
        "# custum function to clean the dataset (combining tweet_preprocessor and reguar expression)\n",
        "def clean_tweets(df):\n",
        "  tempArr = []\n",
        "  for line in df:\n",
        "    # send to tweet_processor\n",
        "    tmpL = p.clean(line)\n",
        "    # remove puctuation\n",
        "    tmpL = REPLACE_NO_SPACE.sub(\"\", tmpL.lower()) # convert all tweets to lower cases\n",
        "    tmpL = REPLACE_WITH_SPACE.sub(\" \", tmpL)\n",
        "    tempArr.append(tmpL)\n",
        "  return tempArr"
      ],
      "execution_count": 14,
      "outputs": []
    },
    {
      "cell_type": "code",
      "metadata": {
        "id": "ApWoX0HvrUzT"
      },
      "source": [
        "# clean training data\n",
        "train_tweet = clean_tweets(x[\"tweet\"])\n",
        "train_tweet = pd.DataFrame(train_tweet)"
      ],
      "execution_count": 15,
      "outputs": []
    },
    {
      "cell_type": "code",
      "metadata": {
        "colab": {
          "base_uri": "https://localhost:8080/",
          "height": 441
        },
        "id": "USVcAfNtrXgU",
        "outputId": "f11b4f2c-add0-40ff-f86e-b29b5d552504"
      },
      "source": [
        "# append cleaned tweets to the training data\n",
        "x[\"clean_tweet\"] = train_tweet\n",
        "\n",
        "# compare the cleaned and uncleaned tweets\n",
        "x.head(10)"
      ],
      "execution_count": 16,
      "outputs": [
        {
          "output_type": "execute_result",
          "data": {
            "text/html": [
              "<div>\n",
              "<style scoped>\n",
              "    .dataframe tbody tr th:only-of-type {\n",
              "        vertical-align: middle;\n",
              "    }\n",
              "\n",
              "    .dataframe tbody tr th {\n",
              "        vertical-align: top;\n",
              "    }\n",
              "\n",
              "    .dataframe thead th {\n",
              "        text-align: right;\n",
              "    }\n",
              "</style>\n",
              "<table border=\"1\" class=\"dataframe\">\n",
              "  <thead>\n",
              "    <tr style=\"text-align: right;\">\n",
              "      <th></th>\n",
              "      <th>label</th>\n",
              "      <th>tweet</th>\n",
              "      <th>clean_tweet</th>\n",
              "    </tr>\n",
              "  </thead>\n",
              "  <tbody>\n",
              "    <tr>\n",
              "      <th>0</th>\n",
              "      <td>0</td>\n",
              "      <td>@user when a father is dysfunctional and is s...</td>\n",
              "      <td>when a father is dysfunctional and is so selfi...</td>\n",
              "    </tr>\n",
              "    <tr>\n",
              "      <th>1</th>\n",
              "      <td>0</td>\n",
              "      <td>@user @user thanks for #lyft credit i can't us...</td>\n",
              "      <td>thanks for credit i cant use cause they dont o...</td>\n",
              "    </tr>\n",
              "    <tr>\n",
              "      <th>2</th>\n",
              "      <td>0</td>\n",
              "      <td>bihday your majesty</td>\n",
              "      <td>bihday your majesty</td>\n",
              "    </tr>\n",
              "    <tr>\n",
              "      <th>3</th>\n",
              "      <td>0</td>\n",
              "      <td>#model   i love u take with u all the time in ...</td>\n",
              "      <td>i love u take with u all the time in ur</td>\n",
              "    </tr>\n",
              "    <tr>\n",
              "      <th>4</th>\n",
              "      <td>0</td>\n",
              "      <td>factsguide: society now    #motivation</td>\n",
              "      <td>factsguide society now</td>\n",
              "    </tr>\n",
              "    <tr>\n",
              "      <th>5</th>\n",
              "      <td>0</td>\n",
              "      <td>[2/2] huge fan fare and big talking before the...</td>\n",
              "      <td>2 2 huge fan fare and big talking before they ...</td>\n",
              "    </tr>\n",
              "    <tr>\n",
              "      <th>6</th>\n",
              "      <td>0</td>\n",
              "      <td>@user camping tomorrow @user @user @user @use...</td>\n",
              "      <td>camping tomorrow danny</td>\n",
              "    </tr>\n",
              "    <tr>\n",
              "      <th>7</th>\n",
              "      <td>0</td>\n",
              "      <td>the next school year is the year for exams.ð...</td>\n",
              "      <td>the next school year is the year for exams can...</td>\n",
              "    </tr>\n",
              "    <tr>\n",
              "      <th>8</th>\n",
              "      <td>0</td>\n",
              "      <td>we won!!! love the land!!! #allin #cavs #champ...</td>\n",
              "      <td>we won love the land</td>\n",
              "    </tr>\n",
              "    <tr>\n",
              "      <th>9</th>\n",
              "      <td>0</td>\n",
              "      <td>@user @user welcome here !  i'm   it's so #gr...</td>\n",
              "      <td>welcome here  im its so</td>\n",
              "    </tr>\n",
              "  </tbody>\n",
              "</table>\n",
              "</div>"
            ],
            "text/plain": [
              "   label  ...                                        clean_tweet\n",
              "0      0  ...  when a father is dysfunctional and is so selfi...\n",
              "1      0  ...  thanks for credit i cant use cause they dont o...\n",
              "2      0  ...                                bihday your majesty\n",
              "3      0  ...            i love u take with u all the time in ur\n",
              "4      0  ...                             factsguide society now\n",
              "5      0  ...  2 2 huge fan fare and big talking before they ...\n",
              "6      0  ...                             camping tomorrow danny\n",
              "7      0  ...  the next school year is the year for exams can...\n",
              "8      0  ...                               we won love the land\n",
              "9      0  ...                           welcome here  im its so \n",
              "\n",
              "[10 rows x 3 columns]"
            ]
          },
          "metadata": {
            "tags": []
          },
          "execution_count": 16
        }
      ]
    },
    {
      "cell_type": "code",
      "metadata": {
        "colab": {
          "base_uri": "https://localhost:8080/"
        },
        "id": "wlDwCLvMraeQ",
        "outputId": "4b3607d7-5f6d-498a-b712-95040ec8db58"
      },
      "source": [
        "corpus = x[\"clean_tweet\"]\n",
        "corpus.tail()"
      ],
      "execution_count": 17,
      "outputs": [
        {
          "output_type": "execute_result",
          "data": {
            "text/plain": [
              "31957                                   ate isz that youuu\n",
              "31958    to see nina turner on the airwaves trying to w...\n",
              "31959    listening to sad songs on a monday morning otw...\n",
              "31960                       vandalised in in  condemns act\n",
              "31961                             thank you for you follow\n",
              "Name: clean_tweet, dtype: object"
            ]
          },
          "metadata": {
            "tags": []
          },
          "execution_count": 17
        }
      ]
    },
    {
      "cell_type": "code",
      "metadata": {
        "colab": {
          "base_uri": "https://localhost:8080/"
        },
        "id": "yNxTUydKrdG5",
        "outputId": "ba727313-878a-4e52-e4a8-77dc57fbf0dc"
      },
      "source": [
        "corpus.head(20)"
      ],
      "execution_count": 18,
      "outputs": [
        {
          "output_type": "execute_result",
          "data": {
            "text/plain": [
              "0     when a father is dysfunctional and is so selfi...\n",
              "1     thanks for credit i cant use cause they dont o...\n",
              "2                                   bihday your majesty\n",
              "3               i love u take with u all the time in ur\n",
              "4                                factsguide society now\n",
              "5     2 2 huge fan fare and big talking before they ...\n",
              "6                                camping tomorrow danny\n",
              "7     the next school year is the year for exams can...\n",
              "8                                  we won love the land\n",
              "9                              welcome here  im its so \n",
              "10    consumer price index mom climbed from previous...\n",
              "11                                    we are so selfish\n",
              "12                          i get to see my daddy today\n",
              "13            calls middle school build the wall chant \n",
              "14                                        no comment in\n",
              "15                                  ouchjunior is angry\n",
              "16                     i am thankful for having a paner\n",
              "17                                 retweet if you agree\n",
              "18       its  smiles all around via ig user make people\n",
              "19    as we all know essential oils are not made of ...\n",
              "Name: clean_tweet, dtype: object"
            ]
          },
          "metadata": {
            "tags": []
          },
          "execution_count": 18
        }
      ]
    },
    {
      "cell_type": "code",
      "metadata": {
        "colab": {
          "base_uri": "https://localhost:8080/"
        },
        "id": "EgrtbVqprf-b",
        "outputId": "a74114df-6f85-42ae-dcd6-f31b02637c13"
      },
      "source": [
        "corpus_data = corpus.values.tolist()\n",
        "corpus_data"
      ],
      "execution_count": 19,
      "outputs": [
        {
          "output_type": "execute_result",
          "data": {
            "text/plain": [
              "['when a father is dysfunctional and is so selfish he drags his kids into his dysfunction',\n",
              " 'thanks for credit i cant use cause they dont offer wheelchair vans in pdx',\n",
              " 'bihday your majesty',\n",
              " 'i love u take with u all the time in ur',\n",
              " 'factsguide society now',\n",
              " '2 2 huge fan fare and big talking before they leave chaos and pay disputes when they get there',\n",
              " 'camping tomorrow danny',\n",
              " 'the next school year is the year for exams cant think about that',\n",
              " 'we won love the land',\n",
              " 'welcome here  im its so ',\n",
              " 'consumer price index mom climbed from previous  to  in may',\n",
              " 'we are so selfish',\n",
              " 'i get to see my daddy today',\n",
              " 'calls middle school build the wall chant ',\n",
              " 'no comment in',\n",
              " 'ouchjunior is angry',\n",
              " 'i am thankful for having a paner',\n",
              " 'retweet if you agree',\n",
              " 'its  smiles all around via ig user make people',\n",
              " 'as we all know essential oils are not made of chemicals',\n",
              " 'people blaming ha for conceded goal was it fat rooney who gave away free kick knowing bale can hit them from there',\n",
              " 'sad little dude',\n",
              " 'product of the day happy man tool whos its the  time to open up &amp drink up',\n",
              " 'lumpy says i am a  prove it lumpy',\n",
              " 'to my ',\n",
              " 'beautiful sign by vendor for 4500',\n",
              " 'all when is  in  sunday love',\n",
              " 'we had a great panel on the mediatization of the public service',\n",
              " 'happy fathers day',\n",
              " 'people went to nightclub to have a good night and mans actions means those people are lost to their families forever',\n",
              " 'i have never had a chance to vote for a presidential candidate i was excited about and this cycle looks to be no different',\n",
              " 'does',\n",
              " 'rip to the fellow nohern ireland fan who sadley passed away tonight gawa forever singing and cheering on fire',\n",
              " 'it was a hard monday due to cloudy weather disabling oxygen production for today',\n",
              " 'its unbelievable that in the st century wed need something like this again',\n",
              " 'bull up you will dominate your bull and you will direct it whatever you want it to do w',\n",
              " 'morning~~',\n",
              " 'once more only one word tells it all ',\n",
              " 'oh  waited hours in the valravn line and it stopped working we were so close',\n",
              " 'i am thankful for sunshine',\n",
              " 'when you finally finish a book youve been working on for awhile',\n",
              " 'yup being a knicks fan is hard so its easier to just be an nba fan when the playoffs roll around',\n",
              " 'there is life after social networking embrace each day be',\n",
              " 'my mom shares the same bihday as bihday snake see you this weekend',\n",
              " 'lovely echeveria blooms',\n",
              " 'i am amazing',\n",
              " 'i love u take with u all the time in ur',\n",
              " 'im and goes ',\n",
              " 'feeling blue',\n",
              " 'the best pa about life is knowing who you are',\n",
              " 'getting ready remove the victums frm',\n",
              " 'for her we got her a we love you',\n",
              " 'off to concelebrate at the for the first time',\n",
              " 'let the scum baggery begin',\n",
              " 'thank you super love it zpamdelacruz dolores capas tarlac',\n",
              " 'a scourge on those playing baroque pieces on piano beyond belief',\n",
              " 'lets fight against',\n",
              " 'happy fathers day mr rayos',\n",
              " 'ascot times with this babe',\n",
              " 'the weekendis here',\n",
              " 'happy at work conference right mindset leads to culture of development organizations',\n",
              " 'christina grimmies last performance before being shot via',\n",
              " 'we are ready to dance',\n",
              " 'youve really hu my feelings',\n",
              " 'my wife whom i adore had to miss your poland show because she had surgery her name is bridget &amp shes my everything',\n",
              " 'i am so jealous of you right now',\n",
              " 'i celebrate every man that has played its fatherly role fathers day',\n",
              " 'im sure they are just as happy hour',\n",
              " 'the white establishment cant have blk folx running around loving themselves and promoting our greatness',\n",
              " 'good morning the journey begins',\n",
              " 'if you like this from',\n",
              " 'our new brochures have arrived how exciting',\n",
              " 'so much stuff happening in florida first shooting and now on a two year old kid',\n",
              " 'ferrari will do it for the sake of the championship this gp is clearly a turning point rb ferrarimercs',\n",
              " 'aced my first test',\n",
              " 'seeks probe into  leak points finger at ',\n",
              " 'wrapping up th',\n",
              " 'hey white people you can call people white by',\n",
              " 'you might be just have not shown here today regurgitated talking points and name calling',\n",
              " 'sometimes you have to raise a few brows to raise the bar',\n",
              " 'about that',\n",
              " 'designing learning space to include h',\n",
              " 'how the uses &amp insecurity to lure men into',\n",
              " 'carrying a gun wouldnt of helped if you cant take it in with you gun control wont stop the black market terrorism will get worse',\n",
              " 'use the power of your mind to your body   ',\n",
              " 'woohoo just over weeks to go',\n",
              " 'being in a far away place where you have no family members hus',\n",
              " 'ready to rehearse tonight with new music and new videos look out for the announcement',\n",
              " 'now on monday nights at pm on channel i finally get to see what all the fuss is about',\n",
              " 'watching the new episodes of on',\n",
              " 'offline now after a very nice and long night',\n",
              " 'things incredibly do',\n",
              " 'yes received my acceptance letter for my masters so will be back at again in october',\n",
              " 'daughter riding her bike around driveway son playing his guitar for us while we enjoy by the campfire',\n",
              " 'omg loving this station way to jam out at work while getting work done of course',\n",
              " 'ill always hope that one day ill get to hug you but i dont think that its gonna happen anytime soon',\n",
              " 'i love u take with u all the time in ur',\n",
              " 'couple having sex fat naked japanese girls',\n",
              " 'on that day edwardsville pennsylvania',\n",
              " 'personalised we gbp get here',\n",
              " 'there are some truly sick ppl out there',\n",
              " 'trump calling on obama to resign over the orlando shootings the boy has a point years and all he did was talk about change',\n",
              " 'not long now',\n",
              " ' usd clears barrier jumps to fresh  week high',\n",
              " 'going to la tomorrow',\n",
              " 'i am thankful for good friends',\n",
              " 'i still can not wrap my head around the fact that is gone and the fact that a man destroyed just',\n",
              " 'just received dis from cant wait to sta baking ',\n",
              " 'we were so to be playing for via',\n",
              " 'yes yes yes',\n",
              " 'sunday',\n",
              " 'im not interested in a that doesnt address &amp  racism is about  brings',\n",
              " 'one of my beloved long lost cds now recovered thanks to apple music ',\n",
              " 'vine by',\n",
              " 'why not mocked obama for being black',\n",
              " 'the spell of brexit referendum   commerzbank',\n",
              " 'amazing health benefits of cucumbers is  ',\n",
              " 'i love u take with u all the time in ur',\n",
              " 'off to work',\n",
              " 'i made it',\n",
              " 'laps of pool k ride done and picked up a gym membership form',\n",
              " 'polar bear climb racing angry polar bear climb racing the polar bear living in cold places looking',\n",
              " 'gets him angry a muslim assassinating not so much',\n",
              " 'happy snappy waiting for the football',\n",
              " 'friday i miss you',\n",
              " 'las vegas strip',\n",
              " 'ma fleurette',\n",
              " 'sad in the branches its just rainy day writing tears are flying birds',\n",
              " 'yeah new buttons in the mail for me they are so pretty',\n",
              " 'driver hit female moose on river rd  moose was killed driver is ok crews removing animal now',\n",
              " 'afterpas made in japan madeinjapan cute',\n",
              " 'arent protesting because a won they do so because trump has fuhered &amp',\n",
              " 'i need to find a way to spend my time so you are not always on my mind  ',\n",
              " '146604726015 update',\n",
              " 'anyone know the date our and became corrupted',\n",
              " 'makes me more than even why put a installation if u were going to take it off',\n",
              " 'bihday',\n",
              " 'd most impoant thing is to your life   to be   its all that matters life is too sho',\n",
              " 'happy bihday chris evans a great actor and human',\n",
              " 'our heas thoughts prayers go out to the more than people who were murdered a gay nightclub in',\n",
              " 'demoing guitars for new album',\n",
              " 'retweeted lion pro  ',\n",
              " ' usd targets the week sma at',\n",
              " 'ive had pretty bad bihday weeks before but so far this is the worst ever',\n",
              " 'so blessed to have worked with sas best leading ladies',\n",
              " 'happiest place on eah',\n",
              " 'is kinda to be among humans again',\n",
              " 'just found out is at after id been exclaiming to how gr8 blains hair was the other nite',\n",
              " '&lt3 listen to my most beautiful best friend singing with her most amazing voice &lt3 &lt3 &lt3 &lt3',\n",
              " 'be n freedom from effo in the present merely means that there has been effo stored up in the past theodore roosevelt',\n",
              " 'when you know yall aint going know where',\n",
              " 'yes its when you call a gorilla because racists have long thought of black people as no bet',\n",
              " 'this is us all this year waiting for the show to sta our rd year running',\n",
              " 'when the internet is broken so you cant watch netflix',\n",
              " 'and she will do just thatthen whatbusiness as usual',\n",
              " 'hbd to this dick suckin tequila lovin slut i wouldnt want u any other way',\n",
              " 'as the smaller hands show barry probably lied about being why his game sucked more than his',\n",
              " 'good morning friday what is everyone doing this weekend',\n",
              " 'challenges s claim that  are  dares it to prove',\n",
              " 'sending my deepest condolences to the orlando gay families zimbabwe gay community has you at hea',\n",
              " 'new selfie \\\\ ',\n",
              " 'saturday afternoon chi meet up',\n",
              " 'i love u take with u all the time in ur',\n",
              " 'soed out all my nut &amp bolts',\n",
              " 'aww yeah its all good bing bong bing bong',\n",
              " 'just dawned on me in months i will be seeing live i am so excited',\n",
              " 'happy th bihday shane robe watson',\n",
              " 'you point one finger millions are pointed right back at you',\n",
              " 'sad to hear the announcers say that it may have moved the player to one or two out of the lead ',\n",
              " 'im going to tonight oh yes',\n",
              " 'u think like this too the god who is not coming through for me the god who is not keeping me ',\n",
              " 'terrorist = constitutional rights this is just another excuse by republicans to appease the nra with no gun control measures ',\n",
              " 'its all about',\n",
              " 'very sad what happened',\n",
              " 'everyone is everything',\n",
              " ' perhapse a good example of the need to protect from within europe',\n",
              " 'angry birds stella bad princess birdsstellabadprincess time post wed',\n",
              " 'check incredibly to have made great memories with great people  we did an ',\n",
              " 'saw a t shi last night that said rip to when i cared',\n",
              " 'hilarious im already blocked by for asking one not paicularly difficult question',\n",
              " 'devastating news my hea goes out to the victims and their families',\n",
              " 'happiness is not a state to arrive at but a manner of traveling margaret lee',\n",
              " 'safe ways to heal your  ',\n",
              " 'what i am creating right now',\n",
              " 'wedding number ',\n",
              " 'were looking forward to attending the cipd ireland conference &amp workshop',\n",
              " 'finally reached followers on  follower hypu tomorrow',\n",
              " 'words r free its how u use em that can cost you',\n",
              " 'after what our country went through this last year to see people bring a bomb to the stadium &amp come here for everything but football',\n",
              " 'i am thankful for cats',\n",
              " 'time to eat with my bae swalscha',\n",
              " 'ilovethesecret',\n",
              " 'you might be a libtard if',\n",
              " 'its about to go down',\n",
              " 'attack bull game d do you really think that his head was empty around the city each side',\n",
              " 'what a self serving hypocrite always keep your eye on the bouncing ball with this nimrod president',\n",
              " 'bull up you will dominate your bull and you will direct it whatever you want it to do whe',\n",
              " 'polar bear climb racing angry polar bear climb racing the polar bear living in cold places loo',\n",
              " 'if they want reelection money',\n",
              " 'my hea is with right now i truly cannot imagine could have easily happened anywhere',\n",
              " 'alreemgroup',\n",
              " 'it seems like the only place with action here is montreal',\n",
              " 'that and you are old and washed up',\n",
              " 'i am spirited',\n",
              " 'i am thankful for enteainment',\n",
              " 'this shows truly how bad brisbane are',\n",
              " 'cant wait for',\n",
              " 'happy man',\n",
              " 'moments  the lucky chinatown mall binondo',\n",
              " 'this really takes the piss im so angry just goes to show who is valued and who isnt you complete and utter moron',\n",
              " 'take out the america   i voted against   i voted against   i voted against   i vot',\n",
              " 'fathers day to all the out there that give up so much for their families your',\n",
              " 'does really work ',\n",
              " 'sebbo has said it all',\n",
              " 'eg smile',\n",
              " 'brilliant service at your kettering branch today customer',\n",
              " 'will be here for a screening i will miss it so i will sing all the songs from potp and shock treatment because i can',\n",
              " 'on the way toraya',\n",
              " 'i love u take with u all the time in ur',\n",
              " 'good day   new beers at bridpo food &amp beer fest back at the campsite drunk the starstruck &amp moved on to ',\n",
              " 'g o a l s repost from sydney',\n",
              " 'i want to teach you love like youve never felt it before',\n",
              " 'i am thankful for now',\n",
              " 'omg just days left cant wait for him to come to milan',\n",
              " 'stone roses done now time for in a d club days',\n",
              " 'theres a reason why two people stay together they give each other something nobody else can hopelly greats day',\n",
              " 'you never know who might have a crush on you',\n",
              " 'my friend just got engaged',\n",
              " 'days lef b4 end of classez yay',\n",
              " 'may we watch how we say what needs to be be said',\n",
              " 'i am legendary',\n",
              " 'to the united states of america from the rest of the world i think youve proven you dont have the right to own firearms',\n",
              " 'if you hold open a door for a woman because shes a woman and not because its a nice thing to do thats  dont even try to deny it',\n",
              " 'when your having a good weekend and it shows   ',\n",
              " 'when you have a good hea and help everyone you always seem to be the one who gets hu',\n",
              " 'the happiest baby ive ever known',\n",
              " 'are you ready for bc  are',\n",
              " 'cant wait for carowinds ready to see and time to',\n",
              " 'already bought my finding dory ticket',\n",
              " 'for every minute you are you lose sixty seconds of   and you should do the same',\n",
              " 'see you guys in september',\n",
              " 'question of the day excited for motos',\n",
              " 'make today count',\n",
              " 'happy morning degree with anna',\n",
              " 'would u be able to suppo our event they lost funding and may have to close',\n",
              " 'we are happy little peoples happyhappy people',\n",
              " 'thank you very much for this oppounity will cherish it forever',\n",
              " 'themeowood puppy',\n",
              " 'few more days till who is ',\n",
              " 'happy by pharrell williams lyrics',\n",
              " 'happy at work conference right mindset leads to culture of development organizations',\n",
              " 'we lost another member of our family yesterday',\n",
              " 'yayyy trailer morrow super',\n",
              " 'watch fancy tailss vine mad',\n",
              " 'bull up you will dominate your bull and you will direct it whatever you want it to do when',\n",
              " 'im so ready for tomorrow',\n",
              " 'in memory of my wonderful dad always missed eternally loved',\n",
              " 'on dallas shooting the video youre about to see is disturbing so viewer discretion then they play it in a loop ove',\n",
              " 's fine a little',\n",
              " 'sunshine &amp stickers kind of saturday',\n",
              " 'had a wonderful day today',\n",
              " 'buka bersama tma family w  risha meylucky &amp others at mayfair townhouse pic',\n",
              " 'he loves you more than you know',\n",
              " 'this man ran for governor of ny the state with the biggest african american population',\n",
              " 'offer no or solutions but create the same old repetitive',\n",
              " 'who can get the pussy quicker these days',\n",
              " 'ill probably be by the time comes back home',\n",
              " 'i love u take with u all the time in ur',\n",
              " 'anyone playing voez kinda in love with this game',\n",
              " 'how many passed by how many times and said nothing',\n",
              " 'sequoia is about the ',\n",
              " 'some bitches care more about their eyebrows then how much  they makin at the end of the week',\n",
              " 'bham is pride paradeready',\n",
              " 'to all the guys who play dad out there we you',\n",
              " 'bihday to my bogummylove you foreverhope you happy everydaygood night',\n",
              " 'wishing all our clients had baby goats to cuddle',\n",
              " 'love you guys get some concord mills mall',\n",
              " 'the get ready to be scared tonight its on',\n",
              " 'today is the day to make the change eliminate negativity and choose to live a positive lifestyle instead',\n",
              " 'aaahh nabilah looks so arigatou jkt48 have a very happy daaay',\n",
              " 'last day at work tomorrow for me  self employed from monday',\n",
              " 'im half boy half man so im dumb too',\n",
              " 'my happy little boy',\n",
              " 'never been more appropriate i have zero idea of what im feeling right now',\n",
              " 'have a magnificent monday',\n",
              " 'i just dont understand y these designers print animals on fabric just bought muzlin b',\n",
              " 'maybe happy hour you can get a  ',\n",
              " 'and her friend',\n",
              " 'if you have never lost a loved one to senseless violence you dont get a fucking opinion on the nd amendment',\n",
              " 'where is the world heading you could lose your life just for leaving your home',\n",
              " 'i heard him say that he was trying to lock the shooter in but kept other patrons from getting out',\n",
              " 'good mood flight with off to munich for interviews',\n",
              " 'first presentation by in the netherlands by',\n",
              " 'u made us proud i hv been reading ur words &amp assured it will b a assoment of petite emotions wish u the best',\n",
              " 'happiness vs joy happiness is temporary and leaves u hu joy last forever and never leaves',\n",
              " 'twinklatinboys   na ',\n",
              " 'it is not people who are thankful it is thankful people who are happy',\n",
              " 'i am creative',\n",
              " 'i have held back tears i have cried happy tears &amp finally we leave a week tomorrow',\n",
              " 'bihday pressie from my mummy and my granny',\n",
              " 'stuck in athens instead of santorini because said it was to windy to land shocking service on every level since',\n",
              " 'these happy folks had the very first at the launch',\n",
              " 'what a huge crowd for trump',\n",
              " 'i am thankful for saturdays',\n",
              " 'good god why',\n",
              " 'enjoying these delicious melons',\n",
              " 'first months then weeks now its only days till the beginning of the end of i am both and at the same time',\n",
              " 'its a firework weeheeeee~',\n",
              " 'attack bull game d do you really think that his head was empty around the city each side is',\n",
              " 'to all our the amazing fathers out there today',\n",
              " 'i just want to be  is that too much to ask for',\n",
              " 'ready and waiting',\n",
              " 'im sad my aunt passed away she was ',\n",
              " 'horribly ads from that made us cringe',\n",
              " 'wouldnt mind robson kanu at s6 decent player available on a free transfer too',\n",
              " 'come on you can do better than this please put yourself in s shoes unnecessary stress h',\n",
              " 'stalk me watch me im just a peon poor disabled kill methis is not the usa i used b proud of &amp the universe doesnt care ',\n",
              " 's outburst begs the question can christians get ',\n",
              " 'im so and now that  ',\n",
              " 'more weeks to go then im san antonio bound to see i cant wait to see my little brother',\n",
              " 'listen up &gt&gt&gt&gt&gt&gt&gt',\n",
              " 'the dying of the light village green town',\n",
              " 'hahaha this is me last &amp',\n",
              " 'hey i noticed that u are a training lover so i ask u to check my free app its known as my training on apple',\n",
              " 'sexy as fuck ',\n",
              " 'sday say i love you to your dad right now',\n",
              " 'guess who back back again',\n",
              " 'hey superspoilt you may want to check for latest updates on _',\n",
              " 'bihday sid god bless you hav a successful career',\n",
              " 'nba finals = ambivalent  love steph and thompson kyrie stinking it up green is an class a doosh lebron wont talk to guillermo',\n",
              " 'check out my production teams web series episode that was edited by yours truly',\n",
              " 'i love u take with u all the time in ur',\n",
              " 'you never answered me about your statement on the s over  &amp being found w',\n",
              " 'independence hall',\n",
              " 'gorilla simulator you need to do to adapt to the environment the need to tear the city material',\n",
              " 'watching the leadership embrace &amp kiss donalds ass is &amp  this is now the pay a pay of racism &amp hate',\n",
              " 'i love how i am so mature for my age',\n",
              " 'aww yeah its all good bing bong bing bong',\n",
              " 'its such a good feeling when this happens',\n",
              " 'check it',\n",
              " 'in days aaahhhhh',\n",
              " 'its today ht',\n",
              " 'sun is out happy thursday in the',\n",
              " 'packing sneak peek to be working with the of the for ',\n",
              " 'tony sunday',\n",
              " 'happy fathers day to my dad and all of the dads out there',\n",
              " 'theverdict is in im an idiot',\n",
              " 'of the week june ',\n",
              " '',\n",
              " 'my little brother has a higher tolerance of alcohol than me lol',\n",
              " 'wishing this guy a  blaze says is the spitting image of a',\n",
              " 'i am thankful for hiking trails',\n",
              " 'all pay meeting to tackle a movie which uncovers a problem we dont want the world to know',\n",
              " 'chill relaxing piano music to keep your pet and during',\n",
              " 'you might be a libtard if',\n",
              " 'nothing says merica like that tweet',\n",
              " 'always be',\n",
              " 'today i lost a sister senselessly   we sing for love not death people',\n",
              " 'some guys too concerned about their twitter brand to be honest with their followers',\n",
              " 'i hate like  of my family i was really born into a big ass toxic bomb mother fuckers dont give a fuck about me cuz i got money',\n",
              " 'get get get',\n",
              " 'best for  is  ',\n",
              " 'trump ny co chair makes racist remarks about michelle obama',\n",
              " 'are you a fan this should make you',\n",
              " 'as as a tool for  is ',\n",
              " 'how can food make a family fight mxm',\n",
              " 'delicious sangria the pub pembroke',\n",
              " 'have a fabulous weekend beautiful souls',\n",
              " 'when im feeling and i look down and see a million reasons to be again i love you craig',\n",
              " 'back to the day job for shane lowry',\n",
              " 'hour right now  4 1 bottles &amp drinks from  7pm w chippewa st',\n",
              " 'anas + nimra + farishta + mawia + khushal + + + + = the number of marks obtained is too damn high',\n",
              " 'my monday is so empty without the bachelorette',\n",
              " 'suppoing family god chivalry tradition and pride in ones heritage is now controversial',\n",
              " 'the pic says otherwise for young girls confined in that kitchen you are void of meaning beyond cheap publicity',\n",
              " 'night  ever',\n",
              " 'do what you love to do simply for the love of it',\n",
              " 'lunchtime with mom',\n",
              " 'my sister aint even know i was watching her argue with the nigga was waiting for him too say the wrong shit',\n",
              " 'ride out ride back done',\n",
              " 'well i was gonna go see adtr with bae',\n",
              " '',\n",
              " 'polar bear climb racing angry polar bear climb racing the polar bear living in cold place',\n",
              " '11 healthy fam',\n",
              " 'dream palace can we move in already days',\n",
              " 'im waiting for a follow since the x factor',\n",
              " 'but its your fault you have to use it to pointscore',\n",
              " 'this week staed off kinda lame but its getting better',\n",
              " 'young man he luks too hot wen he is in temper ill b alwys ur fan till my lst breath h',\n",
              " 'dont worry',\n",
              " 'double tap and follow me',\n",
              " 'for be ',\n",
              " 'turns flat to 5040 eyeing eia inventory data for fuher direction',\n",
              " 'training in new employees is fun',\n",
              " 'to our',\n",
              " '  pigs burn alive in saskatchewan barn fire video',\n",
              " 'youll never convince me that americans have the right to bear these',\n",
              " 'with my beautiful ladies is a blessing to know them ',\n",
              " 'today baba siddique ifftar pay at mumbai &amp dono ayenge to see both again',\n",
              " 'hands ',\n",
              " 'i cant wait to go see warcraft ugh',\n",
              " 'cousins reunited wellness',\n",
              " 'at for an audience with duane henry  should be very insightful',\n",
              " 'my train hasnt moved so im binge tweeting',\n",
              " 'have my lover stop being angry at me visit us&gt&gt&gt',\n",
              " 'when youre blocked by a troll because you promise to &amp let his nonsensical rants boos',\n",
              " 'fathers day to all the dads here and the ones that are in heaven',\n",
              " 'june',\n",
              " 'how creepy awesome are these baboons climbing the fire escape like humans on',\n",
              " 'use the power of your mind to your body is ',\n",
              " 'dude im a tiger',\n",
              " 'we dont because were happy were because we laugh   william james',\n",
              " 'have a happy sunday everyone i think today is going to be a good day',\n",
              " 'can we talk about the ways in which organizations dehumanize us and how theyre never held accountable',\n",
              " 'stuck in the rat race find your freedom',\n",
              " 'i have to study i stole my roommates idea for taking this pic',\n",
              " 'dinner with sister',\n",
              " 'who else is planning on watching tomorrow',\n",
              " 'rifle day snowed out so ar 15 is closest to m 16 i ever got',\n",
              " 'euro  bbc pundits make their predictions for france sta today  ',\n",
              " 'because i am happy',\n",
              " 'no elder scrolls for many years wah wah',\n",
              " 'poor and a little bit cheeky &amp',\n",
              " 'cannot wait for this year',\n",
              " 'very to work with russellbeckwith soon  my friend lyle ',\n",
              " 'why the nazis studied american race laws for inspiration',\n",
              " 'sharing ice cream',\n",
              " 'nothing like a river island sale shopping spree to cheer you up',\n",
              " 'cleaning ze house and zoing ziy laundry im finally free from fever and colds __im happy',\n",
              " 'new listings are up',\n",
              " 'i am thankful for my challenges',\n",
              " 'chilled night in with ice cream&amp grown up2',\n",
              " 'absolutely originated in hateful hatred of our african american',\n",
              " '* sweets  *',\n",
              " 'all these tragedies in america first with the killing of and now is not a safe place to be today',\n",
              " 'angst a factor helping drive down interest rates in germany and japan   bbh',\n",
              " 'fab &amp interesting day at  now dash to a quiet place to dial into iiba emea region meeting',\n",
              " 'kayak sup snorkel swimwhatever your pleasure well put it together',\n",
              " 'u can hold a man down for years and watch him change on u over some hear say no loyalty no',\n",
              " 'well back going to tacloban now see ya later traveling to tacloban city from catbalogan',\n",
              " 'how do you feel about that you havent won any olympics medal',\n",
              " 'angry birds il film download ita p hdtc 2016',\n",
              " 'to you all by',\n",
              " 'fo woh officer in viral arrest video was rude not racist chief',\n",
              " 'saturday friends',\n",
              " 'yayyyy my friend got married today congratulations guys',\n",
              " 'i love u take with u all the time in ur',\n",
              " 'if lewis remains perfect the rangers announcers are gonna stroke out',\n",
              " 'chris is so to be back to after missing most of with a broken',\n",
              " 'train tickets booked for my opera week in wales',\n",
              " 'its a beautiful day beach park',\n",
              " 'the big screen is being fitted right now',\n",
              " 'not all love stories are happy ending',\n",
              " 'bull up you will dominate your bull and you will direct it whatever you want it to do when you sta',\n",
              " 'i am tranquil',\n",
              " 'is that the name of any upcoming new track',\n",
              " 'best for   ',\n",
              " 'wow some peoples children have nothing better to do then insult people on twitter  ',\n",
              " 'thinking maybe i should have bought instead of',\n",
              " 'the fact that album is an hour away from dripping has me losing my mind',\n",
              " 'ryderrideu   see you c2c and cum together ',\n",
              " 'snapchat gaby_china20',\n",
              " 'i am brilliant',\n",
              " 'true niggas dont go looking for apaments they go look at shoes and jewelry',\n",
              " 'safe ways to heal your  ',\n",
              " 'u r so special us father day',\n",
              " 'camping next weekend',\n",
              " 'im so and now that  ',\n",
              " 'my bestie',\n",
              " 'absolutely love this place fantastic welcome from carlos receptionist th time here room request granted as usual',\n",
              " 'headed to with my peculiar family',\n",
              " 'retail sales control group likely rose  m m in may danske bank',\n",
              " 'happy fathers day you are love of my life &ampthe best father in the world',\n",
              " 'coolestlifehack worlds smallest snake',\n",
              " 'this is a shockingly and increasingly we live in and the has gun control laws i feel for the mps family &amp friends',\n",
              " '  or simply so',\n",
              " 'happy bihday to me brithday day holidays',\n",
              " 'i am saddened that no one has thought to groom her for the position before asking her opinion on such an issue',\n",
              " 'ukrainians athletes are not in grosseto for  watching livestream without seeing them its not the same',\n",
              " 'new season of oitnb stas tonight',\n",
              " 'excited to be on the other side of the cuain for once tonight looking forward to seeing on broadway',\n",
              " 'when quay collab with says sold out',\n",
              " 'im to finally get my and i get to them too',\n",
              " 'i am impressive',\n",
              " 'fathers day to all the fathers out there out there making it happen  to yall ',\n",
              " 'our view from the th floor girl',\n",
              " 'discussing republicans is the same thing as critiquing  we cant ignore the consequences',\n",
              " 'got school tomorrow my last integration',\n",
              " 'amen truth always &lt3 &lt3',\n",
              " 'and the stamford kid got months for rapebut that wasnt boredomit was minutes of action ',\n",
              " 'lets colorized your life w  rainbow depok',\n",
              " 'rude customer care executive makes me want to switch my loyalty to another provider',\n",
              " 'hi teddy corpuz',\n",
              " 'wow what a great daughter you are to send that to your father right before fathers day',\n",
              " 'reasons to be happywhen your kid is mid tantrum',\n",
              " 'i am truthful',\n",
              " 'yup on   woot next did they work on her listening skills',\n",
              " 'done brockely london',\n",
              " 'are you &amp feel like the are stomping on you',\n",
              " 'thats the problem only one police officer you need more with bigger guns and perhaps one tank with soldiers',\n",
              " 'fathers day to all friends',\n",
              " 'if youre not with your this fall you can write a candidate in',\n",
              " 'ending',\n",
              " 'get to know the team behind the thats keeping our tummies in our',\n",
              " 'actually going fishing today somewhere nice ',\n",
              " 'how cute they both look like dolls',\n",
              " 'i did and im',\n",
              " 'love this vacation',\n",
              " 'unreal advisors refuse to take my payment and say wait for pcn is this customer service when ur site wasnt working',\n",
              " 'im for forza horizon on the pc what a time we live in',\n",
              " 'life better in tahiti',\n",
              " 'i know their males but i thought they had a vagina like in video games xd',\n",
              " 'pa of the pack was taken and brainwashed by cheetahs',\n",
              " 'domestic corporate goods price index yoy in line with expectations  42 in may',\n",
              " 'remember the day when people on went on to become reality tv stars no it seems reality tv stars become big brother contestants',\n",
              " 'the more familiar we become the more difficult it is to stereotype ',\n",
              " ' if you want to live a life tie it to a goal not to people or things',\n",
              " 'friday &lt3',\n",
              " 'days porn movie pussy pay pics',\n",
              " 'it looked easy till my turn',\n",
              " 'banner and newyear',\n",
              " 'yay thanks for letting me know my pa will be a very happy man',\n",
              " 'in my exam room',\n",
              " 'best homeopathic remedies for   ',\n",
              " 'rest in peace christina',\n",
              " 'those bamas you fool around with might be raising your child ppl dont think that far in advance they just see fun or whatever',\n",
              " 'anti racist is a codeword for antiwhite asia for the asians africa for the africans white countries for everyon',\n",
              " ' on  my first god baby graduated from high school',\n",
              " 'nearly there folks just finalised my stuff with a few pointers from grainne',\n",
              " 'fellowship',\n",
              " 'i just caught myself eating chocolate sliced bread beside the ref realizing i still didnt eat my dinner',\n",
              " 'you police during the police are under a consent decree  are',\n",
              " 'best for  is  ',\n",
              " 'everything you need for  to all the out there from ',\n",
              " ' agree',\n",
              " 'our next show is monday at the fiddlers elbow in camden its looking like its going to be a huge night ht',\n",
              " 'no swimming signs everywhere parents werent watching a year old',\n",
              " 'mitchellrattle mitchell goodson',\n",
              " 'getting ready for saturdays jeep run with nbjc days until htt',\n",
              " 'attempt at czech fury only for croatia to score their second',\n",
              " 'the latest dairy ks thanks to',\n",
              " 'yep   grateful for everyday',\n",
              " 'ive had the ebook for awhile but its so nice to have the hard copy',\n",
              " 'nba finals game  what more could a basketball fan ask for',\n",
              " 'that doesnt prevent you from being a and a',\n",
              " 'dear  despite our attempts to  i regret to announce that weve lost her angelic friend we will miss u',\n",
              " 'place color or use us',\n",
              " 'perfect moment of the day',\n",
              " 'waited for for an hour to come out just for an autograph finally walk awayhe comes out of course disappointing',\n",
              " ' gift your a secured  ',\n",
              " 'girls in the world sexy mature housewife',\n",
              " 'time to get happy its saturday',\n",
              " 'to my awesome dads my almighty father my lord my darling dad rip sweethea my husband my babies daddy 1st son',\n",
              " 'owens football tornament',\n",
              " 'come on piss poor reception today a month and struggle to get a signal in put more masts up or im switching',\n",
              " 'excited na me',\n",
              " 'let begin we are very  bihdayyourmajesty ht',\n",
              " 'wolves in last stage now',\n",
              " 'i dont like the slogan talk about being ',\n",
              " 'rip little bear bear',\n",
              " 'give me a hug my cats moment',\n",
              " 'your lips like fire my blood like gasoline',\n",
              " 'here we go lets do this people',\n",
              " 'life isnt a race allow yourself to be in the present',\n",
              " 'dental testimonials from our clients  ',\n",
              " 'thank yousoo much pretty i feel soo blessed &amp luckyplz do keep showering ur lyks on me',\n",
              " 'nice c susanna smiling daywho needs false promises of flying dragons when shes got ben',\n",
              " 'd not back yet',\n",
              " 'i got the call yesterday mom was diagnosed with stage ovarian cancer im terrified shes terrified just dont know what to do',\n",
              " 'why is ignored',\n",
              " 'is on the other side of history and our allies on this issue',\n",
              " 'fox new just coming out and saying it bluntly one of the most things ive read',\n",
              " 'good morning all ',\n",
              " 'monkeys are also declared as vermin no protest from bajrang dal',\n",
              " 'new plants from are here and ready for the garden at gardening know how',\n",
              " 'coldplay last night with my fave',\n",
              " 'use the power of your mind to your body   ',\n",
              " ' heres mine in this gorgeous sky',\n",
              " 'aww yeah its all good bing bong bing bong',\n",
              " 'yes lets do thissuppoing a openly  who advocates more of same',\n",
              " '     pixion   wallpapers images a',\n",
              " 'good moooooorning',\n",
              " 'enjoy everything already given to you rather than always needing more',\n",
              " 'match schedule design   france vs romania  all feedback is appreciated',\n",
              " 'for fathers day too should take your dad to for the for 20 he will love it',\n",
              " 'berlin before and after thank you so much   that was incredible',\n",
              " 'why listen incubus never hus   nissan de',\n",
              " 'anderson cooper &amp don lemon will not like gays being thrown off buildings by sharia',\n",
              " 'bei is on a field for dog walking',\n",
              " 'who would steal awork from',\n",
              " 'competing for a listing today',\n",
              " 'great park but a totally disorganised one',\n",
              " 'ive got news for you bernie wasnt winning dc even if the vote was held last month',\n",
              " ' usd printing new monthly tops above  draghi eyed',\n",
              " 'our two presidential candidates everybody this is what weve devolved into',\n",
              " 'poor pup vine by',\n",
              " 'rare pic of superstar with bihday sivakoratala',\n",
              " 'and how is it and i am moving just outside of downtown gr mi and neither of you offer better than mbps',\n",
              " 'wishing all the dads a happy fathers day',\n",
              " 'met this girl yrs ago online b ng gay friend y does she look like this when she didnt b4',\n",
              " 'that face says it all',\n",
              " ' b u s y ',\n",
              " 'enjoy this weekend with your family at your home happy weekend my dear friends ',\n",
              " 'another senseless tragedy',\n",
              " 'loving frm the bottom of my hea frm the day it stared &amp what do v get in return',\n",
              " 'captain felix at rutland water the little boat behind is about to go on a very grand adventure',\n",
              " 'binge watching series of so as to completely avoid football',\n",
              " 'to quote jeremy corbyn here we here we here we fucking go',\n",
              " 'happy',\n",
              " 'porn vids wwwsmallgirlsexcom',\n",
              " 'to do what makes your',\n",
              " 'home sweet home is what i call since moving there years ago',\n",
              " 'play england vs russia in marseille at 00 what did they expect high risk game and plenty of time to drink',\n",
              " 'aww yeah its all good bing bong bing bong',\n",
              " 'i am thankful for sweater weather',\n",
              " 'haunting atmospherics',\n",
              " 'become a fan does not give the right to criticize the personal life of an idol',\n",
              " 'the latest obsidian radio daily thanks to',\n",
              " 'mind blown learning so much in this google forms workshop',\n",
              " 'so sexy',\n",
              " 'back to after a v traumatic few months damage not as bad as thought proof the plan works onwards &amp upwards',\n",
              " 'you might be a libtard if',\n",
              " 'just more overwhelming evidence that the company keeps echoes his sentiments &amp ideals',\n",
              " 'most of yall females beefed out over these community dick ass niggas ',\n",
              " 'people be like you already forgot so and so nah its not that its just new names are made a hashtag on a weekly basis',\n",
              " 'how to be i have the answer',\n",
              " 'cherry color is symbol of warm and positive energy necklace price aed',\n",
              " 'i cant wait for the  17 season to begin',\n",
              " 'happy fathers day to all dads except ',\n",
              " 'independent brexit poll shows leave vote ahead gbp usd slumps',\n",
              " 'mm + mm = no washout no flooding good take and all set for another days golf',\n",
              " 'ya ever since zayne left theyve never been the same',\n",
              " 'happy fathers day day',\n",
              " 'big shock on monday needed to find new home yeah found my dream cottage on tuesday',\n",
              " 'save thousands  free search x logins x brokers',\n",
              " 'actually ordered a kylie lip kit',\n",
              " 'i hope the family made arrangements to make sure that cant get access',\n",
              " 'us firm to build nuclear reactors in india',\n",
              " 'bull up you will dominate your bull and you will direct it whatever you want it to do when y',\n",
              " 'no matter where you go',\n",
              " 'oscar tabarez talks luis suarezs angry reaction',\n",
              " 'now playing on us uk eur join us on',\n",
              " 'only weeks to go and im a full time i will have new slots available from june   pls spread t',\n",
              " 'a mother can take care of ten childrens but sometime ten children cant take care of their mother ',\n",
              " 'i am thankful for good nights sleep',\n",
              " 'now playing  the bride    nocturne on',\n",
              " 'fathers day to all tatay daddy enjoy wathing tha voice kids',\n",
              " 'i am thankful for my friends',\n",
              " 'i am thankful for mason jars',\n",
              " 'nigger of a white kid who grew up in the s',\n",
              " 'congrats for',\n",
              " 'via jts88 ',\n",
              " 'ready for at ',\n",
              " 'how utterly  people with incurable in albino killings in malawi spark education campaign',\n",
              " 'off highs back around 1260',\n",
              " 'shocking events in orlando   now will the usa review their gun laws or do more innocents have to die first',\n",
              " 'i am knowledgeable',\n",
              " 'with le sister',\n",
              " 'feeling so and ',\n",
              " 'tag is the saddest representation of how people feel they are now forced to vote for her',\n",
              " 'the h factor does your app make the user  want more factors click to download aricent',\n",
              " 'meanwhile google violates free speech at will',\n",
              " 'happy at work conference right  mindset leads to culture of development organizations',\n",
              " 'attack bull chase when you leave the lot despite the fact that youre a strong source of f',\n",
              " 'im in the competition',\n",
              " 'gorilla simulator you need to do to adapt to the environment the need to tear the city m',\n",
              " 'ima go cry for a few hours brb',\n",
              " 'i my sorrow to the so that the river taught me how to flow without the  sepatu dahlan ',\n",
              " 'i am thankful for memories',\n",
              " 'you surely are a nasty piece of work lmao',\n",
              " 'today is a perfect day to be ',\n",
              " 'after sex over sex nake women',\n",
              " 'i am thankful for cocktails',\n",
              " 'dont wait there',\n",
              " 'guess no one wanted to let the residents of spring street know they wouldnt be able to leave for a few hours today',\n",
              " 'great morning deborah and day',\n",
              " '_ split screen ',\n",
              " 'people use tragedy like this to fuel their hate agenda towards entire groups of people and thats the opposite of helpful',\n",
              " 'taeyeon unnie is on fire btw i really hope that her album cover is not yellow lol',\n",
              " 'john micahow the hell are people like you elected',\n",
              " 'nothing makes dad happier than a tasty meal',\n",
              " 'the about rates in young',\n",
              " 'happy sunday',\n",
              " 'oh she blocked me at least i have love island to look forward to on sunday',\n",
              " 'now playing  suzanne ciani    oclock in the morning on music song',\n",
              " 'swing',\n",
              " 'help bubble attack',\n",
              " 'i am moving',\n",
              " 'the thing is no matter how many laws and regulations there are with guns people will still find a way to get their hands on them',\n",
              " '  quality prints &amp cards at',\n",
              " 'didnt stay for long had an emergency at home my daughter was not well soo i had to rush home and i missed ur set',\n",
              " 'great insights on trusted professions in emea at at ',\n",
              " 'carolyn cooper  ugly poor ignorant and black',\n",
              " 'franklin is a in the',\n",
              " 'perfect day= buy real furniture hiking for dinner for desse',\n",
              " 'happy face lovely smile',\n",
              " 'love you ',\n",
              " 'bull hill climb you have to reach the target to complete the task to survive with str',\n",
              " 'i love u take with u all the time in ur',\n",
              " 'orlando gay men angry they can&ampt donate blood after massacre  ',\n",
              " 'golinglobal  golinuntern fresh air trail running and a soul keeping the life balance',\n",
              " 'monroe&ampnick best friends &amp rosalee&ampaddie and now kelly&ampbabymonrosale families',\n",
              " 'or lying hillary would call it a security inquiry liberals are like minded if one eats shit then all of them eat shit',\n",
              " 'you know what i find incredibly  taking a personal call during a meeting',\n",
              " 'date night billys on burnet',\n",
              " 'i wish would make their phones so the damn screens dont shatter they cost an arm and a leg and still gotta pay to fix em',\n",
              " 'this is so hea wrenching what would be the state of the mother when she knows her son is about to die',\n",
              " 'how times fly less than a week to go until the brilliant leads our summer conference',\n",
              " 'fruit time',\n",
              " 'so sad ones &gt&gt&gt',\n",
              " 'sirf ashiq log follow karen ki full poetry + add + follow',\n",
              " 'minutes to go',\n",
              " 'thank god for the of because without it kansas city is right down there with',\n",
              " 'will get to see my favorite person tmrrw',\n",
              " 'buffalo simulation buffalo for you to take in the vicinity of their homes to do in this way you',\n",
              " 'what a world we live in',\n",
              " 'now the vacation has begun htt',\n",
              " 'a bit of heabreak too',\n",
              " 'peaceful way to sta the morning before the daily chaos begins',\n",
              " 'hardcore girls videos birday sex xxx',\n",
              " 'book order arrives in time for a long weekend away in the bush',\n",
              " 'bull up you will dominate your bull and you will direct it whatever you want it to do when',\n",
              " 'steph san kana your s are badly needed please',\n",
              " 'another hands &amp feet complete berachah you are the best  &amptired',\n",
              " 'on my way over ctf to have a book talk with the inmates paicipating in the book club program',\n",
              " 'ready for this',\n",
              " ' negative external environment remains suppoive mufg',\n",
              " '2499 mkf collection jasmine and moira crossbody bags wednesday',\n",
              " 'currently out to eat at and ive been here for minutes and not gotten the shake i ordered ',\n",
              " 'gray is a very sad color it makes me feel',\n",
              " 'difficult roads often lead to beautiful destinations anon',\n",
              " 'long positions added eur shos increased   anz',\n",
              " 'its on for me its day',\n",
              " 'no he was definitely a mexican',\n",
              " 'when is the new album being released about and your break up',\n",
              " 'standing up to racism and hate by americad not curse out congress and all haters who are deplorable',\n",
              " 'you are my  my only  you make me when skies are gray',\n",
              " 'something i wanted to say something that makes me happy ',\n",
              " 'the football is actually the only thing on at mo thats watchable ',\n",
              " 'happy hump day',\n",
              " 'let me just say  i love being me',\n",
              " 'dont worry be happy via',\n",
              " 'because great things never came from comfo zones',\n",
              " 'happy puppy',\n",
              " 'i dont know where youre going but do you have a room for one more troubled soul',\n",
              " 'we recommend these dark &amp  ',\n",
              " 'used  and to win the white house presses attack on khan family and gop leaders',\n",
              " 'one of my bucket list items ticked tonight i finally saw ice cube live tonight  today was a good day',\n",
              " 'my friends magical potion ewa beach house',\n",
              " 'everytime i wear soccer shis joie fries me and says i look mexican as fuck',\n",
              " 'its been a weird few months but finally feeling more positive about life lately',\n",
              " 'checked in',\n",
              " 'night a sweet dreams',\n",
              " 'nyc in seven days',\n",
              " 'life is what you make it lets make it ',\n",
              " 'rooster simulation i want to climb the vast expanse of mountains it reached the leakage coc',\n",
              " 'in the best mood ever',\n",
              " 'be happy dont worry',\n",
              " '',\n",
              " 'just bought launch using design thinkingby &amp via  ',\n",
              " 'announces more office bearers of zone',\n",
              " 'so mad that i chose dj snake over zedd at edc',\n",
              " 'mango wood lett gbp get here',\n",
              " 'the danger of white liberalism to oveurning applies to liberal men and feminism too',\n",
              " 'truly truly pathetic in so many ways nothing learned from the coverin',\n",
              " 'monday mornings working by the lake',\n",
              " 'im loving this rain hope it hangs around a while',\n",
              " 'you have chosen the wrong horse and unless you change your mind soon it will be the end of your political career',\n",
              " 'weddings are impoant because they celebrate life and possibility anne hathaway',\n",
              " ' shooting at orlando nightclub kills about  police say',\n",
              " 'snatched some of these this past week',\n",
              " 'great aicle right on the money',\n",
              " 'babies was born welcome to new world cats',\n",
              " 're',\n",
              " 'evening my dear cutys',\n",
              " 'its all about me mentality of our culture',\n",
              " 'wishing all of us a very',\n",
              " 'i am thankful for freezers',\n",
              " 'ready for &lta&gt full day of &lthtml&gt from to',\n",
              " 'bihday cake i made for my mom',\n",
              " 'thank you the power of ',\n",
              " 'this made me smile cto',\n",
              " 'sending good vibes your way happy friday',\n",
              " 'more days till i know im ',\n",
              " 'holy city ',\n",
              " 'how old is your mom bihday',\n",
              " 'what did you decide',\n",
              " 'gets him angry a muslim assassinating not so much',\n",
              " 'we out hereeeee ericprydz',\n",
              " 'thing about  we watch the  feel etc then back to open for business as usual not re the ',\n",
              " 'and you keep telling that only aryans are allowed to rape women youre just a troll',\n",
              " 'speechless when it comes to all the shootings recently i guess people have nothing to lose and dont have any respect',\n",
              " 'as forecasted the beautiful waves of raalhugandu has disappeared due to construction of the bridge&amp theres no hope of it com',\n",
              " 'any minute will condemn the comments of',\n",
              " 'all wonderful a s lets today at red rascals',\n",
              " 'vps got multi million dollar bonuses while average americans lost their homes',\n",
              " 'i love and  ',\n",
              " 'i love u take with u all the time in ur',\n",
              " 'signed up for my first bikram yoga class',\n",
              " 'think thoughts and they will shine from your face like sun beams quote',\n",
              " 'if you want creative workers give them enough time to play',\n",
              " 'my hea prayers are with the orlando victims their families and the lgbt community',\n",
              " 'jan interested in how and has affected the criminal justice system',\n",
              " 'friends forever egna hem',\n",
              " 'keep up the opposition to',\n",
              " 'love pizza',\n",
              " 'my two loves',\n",
              " 'i am abundant',\n",
              " 'fathersday   buy things about h',\n",
              " 'rickityrick rickityrick as the same ole broken down wagon is looking to find the next mateen to jump on board',\n",
              " 'love this city great day in ',\n",
              " 'i guess is talking about progress in the advancement of   ',\n",
              " 'teen girl killed others injured in downtown oakland shooting is',\n",
              " 'to everyone going through any struggle or pain right now keep your head up and keep on smiling youll get through it i hope so',\n",
              " 'good evening my darling instagram babies',\n",
              " 'jake is right many ppl lack the will power to take a stand &amp drown the small minded &amp oft evil tendencies of past',\n",
              " 'i really hate hipocrit politicians which is just about all on all sides we deserve better as citizens ',\n",
              " ' where is environmental wellbeing the plan is only about sites   nothng todo with w',\n",
              " 'bihday sway bihday sway bihday bihday',\n",
              " ' now go back to sleep faded away   johnmaun listen',\n",
              " 'i was founate to have this man in my life every single day to all',\n",
              " 'gutted didnt know that you were here tonight i would have been there luck',\n",
              " 'beginning to think is a tom brady hater the way he goes on about the man',\n",
              " 'the attack in has caused a lot of pain to many people is not an option we are all very  lets comfo each other',\n",
              " 'cuteness overloaded let your life fills with love and sweetness married life',\n",
              " 'heading to',\n",
              " ' is it possible for you to speak in any topic without bringing race into it you bigot',\n",
              " 'i love u take with u all the time in ur',\n",
              " 'ours too so much terribly news over the weekend',\n",
              " 'do more of what makes you ',\n",
              " '146587684966 update',\n",
              " 'does his incredibly obama impression via',\n",
              " 'we the people are failing our fellow citizens',\n",
              " 'staing to pack for my move',\n",
              " 'he is my first love i may not be his but he makes me feel like i am',\n",
              " 'just youtu bed them two and they dont get on now',\n",
              " 'if you want to be  be kind to the  it is a to despise anyone',\n",
              " 'have a nice life im done trying to be in it',\n",
              " 'the latest positivementalattitude thanks to',\n",
              " 'you want to spark a serious debate about gun violence release the photos of the bodies inside the club',\n",
              " 'just arrived in blagoevgrad fo conce feeling under the',\n",
              " ' a number of our leaders are coming',\n",
              " 'so to see at yesterday',\n",
              " 'isnt mean to me so that means he doesnt like me',\n",
              " 'great way to spend a saturday',\n",
              " ' usd could test near term westpac',\n",
              " 'he has no money campaign asking for 100k donations by midnight to fight hrcs ad buy',\n",
              " 'today calls for champagne',\n",
              " 'rightly so gop hates trump more than obama',\n",
              " 'sunday hugs',\n",
              " 'just the of us',\n",
              " 'in that moment she decided she needed more a switch to control lifes response default',\n",
              " 'now playing  yiruma    kiss the rain on music song',\n",
              " 'so simple but so true becoming all we are capable of being',\n",
              " 'backwho missed me',\n",
              " 'do not i repeat do not put a dog in a hot car and leave them there in the heat keep them home for fucks sake',\n",
              " 'what a splendid  me probably not this',\n",
              " 'hours to go until our music video is released',\n",
              " 'he is confirmed deadaccording to farrah gray',\n",
              " 'look at journeys left and right foot stage ',\n",
              " 'black professor makes assumptions about an entire race whilst speaking for entire race next week the jews',\n",
              " 'back to musicnow playing michael jacksonthe lost children unificationsdayand may god all the children &amp their familiessmile',\n",
              " 'buffalo simulation buffalo for you to take in the vicinity of their homes to do in this wa',\n",
              " 'when they call us they are really saying they are jealous of us w',\n",
              " 'i think you should suspend indefininetly that racist staff',\n",
              " '*she sat alone and let out a sad sigh*',\n",
              " 'good morning a quick preview of a new that well be launching very soon about this one',\n",
              " 'tried on the new today although they feel very similar to v2s the v3s are smoother and feel great',\n",
              " 'kiki felt ignored today make kiki dance again',\n",
              " 'the source of my ideal my  fathers days',\n",
              " 'congrats to the thomas on your new home in tehaleh welcome to the lennar family',\n",
              " 'i miss the days when my friends played xbox',\n",
              " 'new case and scraggly hair ',\n",
              " 'loving our dincwear mums da word for straight up 16 on saturday',\n",
              " 'bihday sexy girl girls on top of boys naked',\n",
              " 'hes the only one where the majority of fans like him salty gsw fans just needed someone to be about',\n",
              " 'changing on a daily basis 14weeks until handover network team in soon then av',\n",
              " 'when is this coming to singapore',\n",
              " 'sma baby socks gbp get here',\n",
              " 'i liked a video from retard wants more ',\n",
              " 'so woh the wait my wife is',\n",
              " 'lmfao deadass',\n",
              " 'what an amazing interview',\n",
              " 'boasty tuesday last night boom boom and harry hype say get',\n",
              " 'bihday balayya even at that age mass lookcraze in fanson screen romancehe is a legend',\n",
              " 'woohoo',\n",
              " 'outlining my themes for my would be poems haha',\n",
              " 'buffalo simulation buffalo for you to take in the vicinity of their homes to do in this way you',\n",
              " 'sold one of two paintings that are going to get a beautiful new home this week',\n",
              " 'msg of for  a business to end ',\n",
              " 'why does slag off children i love your show butreally',\n",
              " 'safe to say im missing sitting at home on your own watching listening to the rain is',\n",
              " 'they have been brainwashed by the left who is allowing these terrorist to come into america to kill them',\n",
              " 'gd morning',\n",
              " 'friendszxc',\n",
              " 'more days till vacation',\n",
              " 'the secret of a happy marriage is all about finding other people less attractive and those who repo',\n",
              " 'python27 and concurrency are not best friends all the code i have restructure to get concurrency with celery',\n",
              " 'we think so        ',\n",
              " 'hairy pussy redtube hardcore tracks',\n",
              " 'let the season binge begin',\n",
              " 'rest in peace',\n",
              " 'a picture is woh a thousand words',\n",
              " 'relax ',\n",
              " 'countdown has begun enteainment',\n",
              " 'beginner super to use',\n",
              " 'dear istore  please dont crash down due to heavy overload on  19',\n",
              " 'never underestimate the power of a good book good wine good food and a great patio',\n",
              " 'istg this is the best cheese ta but dayum expensive',\n",
              " 'my morning office routine will never be the same without my bff',\n",
              " 'i love u take with u all the time in ur',\n",
              " 'weak attempt to cash in on the jaws anniversary',\n",
              " 'non stop election i blame for hiding for years pittsburgh california',\n",
              " 'were extremely to reveal the first for pa  coming this  mo',\n",
              " 'minutes and counting',\n",
              " 'he has to play ball now the state of our politics its now all a facade as weve lost principality',\n",
              " 'arent protesting because a won they do so because trump has fuhered &amp',\n",
              " 'its a great day to just be nothing but happy',\n",
              " 'have a happy sunday everyone',\n",
              " 'i always help others never myself because other people matter and i clearly dont',\n",
              " ' my bihday weekend  even better  xx',\n",
              " 'stay strong',\n",
              " 'happy fathers day',\n",
              " 'aww yeah its all good bing bong bing bong',\n",
              " 'is most for b',\n",
              " 'to the father of my babies i love u happiest of fathers days via',\n",
              " 'current mood about s web developer meet &amp hire on  22',\n",
              " 'you know youre getting old when you sta to get turned on looking at poweools in b&ampq',\n",
              " 're projects    busy hands are happy hands',\n",
              " 'bride a woman with a fine prospect of happiness behind her ambrose bierce',\n",
              " 'xoxosamantha via',\n",
              " 'stop robbing innocent customers of their hard earned aiime which you guys have no idea on how dey managed to recharge',\n",
              " 'grab your bestie &amp swing by for hour ~ weve missed you',\n",
              " 'is not an  racism is people based on race to justify or open against them',\n",
              " 'finally moving today',\n",
              " 'and im on my way can we say',\n",
              " 'yay fantastic for',\n",
              " 'lemme find out i have to put on my boiler in the month of june',\n",
              " 'my hea goes out to the families of those people killed in the massacre in orlando',\n",
              " 'pre gig drinks',\n",
              " 'so we rescued a pup meet rexy',\n",
              " 'these videos will get you excited for the future',\n",
              " 'congrats ur wish come true working with superxcited for the songs',\n",
              " 'we wish it were',\n",
              " 'i hope you all have a sunnday',\n",
              " 'i once did that gifdidt listen to this song since ages',\n",
              " ' usd rises to  eyeing gdt price index and fomc statement',\n",
              " 'how true home food is considered a cheap meal impressions are made at restaurants',\n",
              " 'happy bihday to one of the wests greatest tupac shakur',\n",
              " 'live your life',\n",
              " 'hrs to go to be revealed feeling stay tuned',\n",
              " 'i had a little taste it was for sure',\n",
              " 'appletstag bday',\n",
              " ' a  tree friends    pixiv happy tree ',\n",
              " 'happy nd wedding anniversary to my amazing husband',\n",
              " 'after a slow sta i had a productive day getting back into a routine after a bout of fatigue and flareup is hard',\n",
              " 'i love ramdan and fastingi love the iftars feeling and i love the way i feel during ramadan with praying and reading quran',\n",
              " ' gbp subdued trading action around',\n",
              " 'with',\n",
              " 'its an unusual cloudy day election day and picnic with friends sunday to everyone ',\n",
              " 'gorilla simulator you need to do to adapt to the environment the need to tear the city mat',\n",
              " 'christ is alive in you',\n",
              " 'wants leak of udta punjab probed suspects political    makers of udt',\n",
              " 'yesterday ozen',\n",
              " 'i can already tell that next weeks episode is gonna give me intense anxiety',\n",
              " 'youve got nothing to say so you assume that ahahahahahah',\n",
              " 'im just an ordinary girl ',\n",
              " 'may lights triumph over darkness may this ramadan bring peace harmony and joy ',\n",
              " 'any1 else notice most of the suppoers r pageant girls wyears to internalize a female oppressive system',\n",
              " 'reasons that optimists rule the world',\n",
              " 'i hate online applications because you dont even get your foot in the door before they tell you no we dont need you',\n",
              " 'i am thankful for flowers',\n",
              " 'to top off my crappy day w me not signing papers for my house pop up conce blocks from work &amp i didnt know',\n",
              " 'beautiful  i love living at the beach',\n",
              " 'omg bitch i knew you was gone do lil kim  actually look like a music video',\n",
              " 'to my ',\n",
              " 'man i even have a bunch of coupons too',\n",
              " 'way to sta the day',\n",
              " 'lking forward our watering holes watchtowers foresses',\n",
              " 'the next best seller book',\n",
              " 'this a a fantastic rub for steak',\n",
              " 'touch my tits  ',\n",
              " 'feels like summer',\n",
              " 'reckons that hes gone beyond the call of duty with my prezzie',\n",
              " 'dont forget   research shows that sexist men have psychological problems',\n",
              " 'nice any specific pedagogical changes',\n",
              " 'typical city fan',\n",
              " 'no im not attracted to asian ppl bc im not asian what if i tell you no im not attracted to u bc im not inse race here hoe',\n",
              " 'awlrite mol jealous better than being at cricket pitch all my life',\n",
              " 'prayers go out to eddie and his family',\n",
              " 'my carer is finishing in one week *',\n",
              " 'of the',\n",
              " 'wingym',\n",
              " 'glad it all arrived safely ',\n",
              " 'who defines  historically or historic  ',\n",
              " 'are you really or just pretending to be',\n",
              " 'i finally found a way how to delete old tweets you might find it useful as well',\n",
              " 'what a',\n",
              " 'have you put in your yet if you havent do it and so we can see what makes ',\n",
              " 'next chapter in life stas soon looking at a house today with my fianc',\n",
              " ...]"
            ]
          },
          "metadata": {
            "tags": []
          },
          "execution_count": 19
        }
      ]
    },
    {
      "cell_type": "code",
      "metadata": {
        "colab": {
          "base_uri": "https://localhost:8080/"
        },
        "id": "ZR8j1jyKrlLQ",
        "outputId": "aa11da82-0866-4718-b978-64a03cfaf787"
      },
      "source": [
        "x.label.value_counts()"
      ],
      "execution_count": 20,
      "outputs": [
        {
          "output_type": "execute_result",
          "data": {
            "text/plain": [
              "0    29720\n",
              "1     2242\n",
              "Name: label, dtype: int64"
            ]
          },
          "metadata": {
            "tags": []
          },
          "execution_count": 20
        }
      ]
    },
    {
      "cell_type": "code",
      "metadata": {
        "id": "Fmdjtp4aroCO"
      },
      "source": [
        "import pandas as pd\n",
        "from sklearn.feature_extraction.text import TfidfVectorizer\n",
        "\n",
        "tfidf_vect = TfidfVectorizer()"
      ],
      "execution_count": 21,
      "outputs": []
    },
    {
      "cell_type": "code",
      "metadata": {
        "colab": {
          "base_uri": "https://localhost:8080/"
        },
        "id": "UD4ry7WurqnO",
        "outputId": "6a8e8977-9694-47ff-ca68-349cbb6c78ec"
      },
      "source": [
        "sample=['this is a sentence is',\n",
        "        'this is another sentence',\n",
        "        'third document is here']\n",
        "        \n",
        "data=tfidf_vect.fit(sample)\n",
        "print(data.vocabulary_)"
      ],
      "execution_count": 22,
      "outputs": [
        {
          "output_type": "stream",
          "text": [
            "{'this': 6, 'is': 3, 'sentence': 4, 'another': 0, 'third': 5, 'document': 1, 'here': 2}\n"
          ],
          "name": "stdout"
        }
      ]
    },
    {
      "cell_type": "code",
      "metadata": {
        "colab": {
          "base_uri": "https://localhost:8080/"
        },
        "id": "_XF10VL6rtjj",
        "outputId": "876ada3f-3318-46d6-fb1b-fd5420054c16"
      },
      "source": [
        "print(tfidf_vect.get_feature_names())"
      ],
      "execution_count": 23,
      "outputs": [
        {
          "output_type": "stream",
          "text": [
            "['another', 'document', 'here', 'is', 'sentence', 'third', 'this']\n"
          ],
          "name": "stdout"
        }
      ]
    },
    {
      "cell_type": "code",
      "metadata": {
        "colab": {
          "base_uri": "https://localhost:8080/"
        },
        "id": "916wG0HZrwkp",
        "outputId": "7c825fde-410d-4910-bd46-fcbebd6931a6"
      },
      "source": [
        "data=tfidf_vect.transform(sample)\n",
        "print(data.shape)"
      ],
      "execution_count": 24,
      "outputs": [
        {
          "output_type": "stream",
          "text": [
            "(3, 7)\n"
          ],
          "name": "stdout"
        }
      ]
    },
    {
      "cell_type": "code",
      "metadata": {
        "colab": {
          "base_uri": "https://localhost:8080/"
        },
        "id": "XBmRmRXKrzjA",
        "outputId": "65d83732-27f9-4779-ba35-4de3c01ab8c4"
      },
      "source": [
        "print(data)"
      ],
      "execution_count": 25,
      "outputs": [
        {
          "output_type": "stream",
          "text": [
            "  (0, 6)\t0.4760629392767929\n",
            "  (0, 4)\t0.4760629392767929\n",
            "  (0, 3)\t0.7394106813498714\n",
            "  (1, 6)\t0.4804583972923858\n",
            "  (1, 4)\t0.4804583972923858\n",
            "  (1, 3)\t0.3731188059313277\n",
            "  (1, 0)\t0.6317450542765208\n",
            "  (2, 5)\t0.546454011634009\n",
            "  (2, 3)\t0.3227445421804912\n",
            "  (2, 2)\t0.546454011634009\n",
            "  (2, 1)\t0.546454011634009\n"
          ],
          "name": "stdout"
        }
      ]
    },
    {
      "cell_type": "code",
      "metadata": {
        "colab": {
          "base_uri": "https://localhost:8080/"
        },
        "id": "qUO5wafPr2up",
        "outputId": "c1f98ce4-afda-4552-bb9d-1b13d94e3515"
      },
      "source": [
        "print(data.toarray())"
      ],
      "execution_count": 26,
      "outputs": [
        {
          "output_type": "stream",
          "text": [
            "[[0.         0.         0.         0.73941068 0.47606294 0.\n",
            "  0.47606294]\n",
            " [0.63174505 0.         0.         0.37311881 0.4804584  0.\n",
            "  0.4804584 ]\n",
            " [0.         0.54645401 0.54645401 0.32274454 0.         0.54645401\n",
            "  0.        ]]\n"
          ],
          "name": "stdout"
        }
      ]
    },
    {
      "cell_type": "code",
      "metadata": {
        "colab": {
          "base_uri": "https://localhost:8080/"
        },
        "id": "dhHYt7IXr5Xt",
        "outputId": "a8af9e27-c922-43d9-bc1f-a0daffaa9518"
      },
      "source": [
        "df = pd.DataFrame(data.toarray(),columns=tfidf_vect.get_feature_names())\n",
        "print(df)"
      ],
      "execution_count": 27,
      "outputs": [
        {
          "output_type": "stream",
          "text": [
            "    another  document      here        is  sentence     third      this\n",
            "0  0.000000  0.000000  0.000000  0.739411  0.476063  0.000000  0.476063\n",
            "1  0.631745  0.000000  0.000000  0.373119  0.480458  0.000000  0.480458\n",
            "2  0.000000  0.546454  0.546454  0.322745  0.000000  0.546454  0.000000\n"
          ],
          "name": "stdout"
        }
      ]
    },
    {
      "cell_type": "code",
      "metadata": {
        "colab": {
          "base_uri": "https://localhost:8080/",
          "height": 357
        },
        "id": "c7rGOv0jr7wr",
        "outputId": "c4af8a57-0033-4728-e2fd-1bdcf10008de"
      },
      "source": [
        "sample_data = dataset[0:10]\n",
        "sample_data"
      ],
      "execution_count": 28,
      "outputs": [
        {
          "output_type": "execute_result",
          "data": {
            "text/html": [
              "<div>\n",
              "<style scoped>\n",
              "    .dataframe tbody tr th:only-of-type {\n",
              "        vertical-align: middle;\n",
              "    }\n",
              "\n",
              "    .dataframe tbody tr th {\n",
              "        vertical-align: top;\n",
              "    }\n",
              "\n",
              "    .dataframe thead th {\n",
              "        text-align: right;\n",
              "    }\n",
              "</style>\n",
              "<table border=\"1\" class=\"dataframe\">\n",
              "  <thead>\n",
              "    <tr style=\"text-align: right;\">\n",
              "      <th></th>\n",
              "      <th>id</th>\n",
              "      <th>label</th>\n",
              "      <th>tweet</th>\n",
              "    </tr>\n",
              "  </thead>\n",
              "  <tbody>\n",
              "    <tr>\n",
              "      <th>0</th>\n",
              "      <td>1</td>\n",
              "      <td>0</td>\n",
              "      <td>@user when a father is dysfunctional and is s...</td>\n",
              "    </tr>\n",
              "    <tr>\n",
              "      <th>1</th>\n",
              "      <td>2</td>\n",
              "      <td>0</td>\n",
              "      <td>@user @user thanks for #lyft credit i can't us...</td>\n",
              "    </tr>\n",
              "    <tr>\n",
              "      <th>2</th>\n",
              "      <td>3</td>\n",
              "      <td>0</td>\n",
              "      <td>bihday your majesty</td>\n",
              "    </tr>\n",
              "    <tr>\n",
              "      <th>3</th>\n",
              "      <td>4</td>\n",
              "      <td>0</td>\n",
              "      <td>#model   i love u take with u all the time in ...</td>\n",
              "    </tr>\n",
              "    <tr>\n",
              "      <th>4</th>\n",
              "      <td>5</td>\n",
              "      <td>0</td>\n",
              "      <td>factsguide: society now    #motivation</td>\n",
              "    </tr>\n",
              "    <tr>\n",
              "      <th>5</th>\n",
              "      <td>6</td>\n",
              "      <td>0</td>\n",
              "      <td>[2/2] huge fan fare and big talking before the...</td>\n",
              "    </tr>\n",
              "    <tr>\n",
              "      <th>6</th>\n",
              "      <td>7</td>\n",
              "      <td>0</td>\n",
              "      <td>@user camping tomorrow @user @user @user @use...</td>\n",
              "    </tr>\n",
              "    <tr>\n",
              "      <th>7</th>\n",
              "      <td>8</td>\n",
              "      <td>0</td>\n",
              "      <td>the next school year is the year for exams.ð...</td>\n",
              "    </tr>\n",
              "    <tr>\n",
              "      <th>8</th>\n",
              "      <td>9</td>\n",
              "      <td>0</td>\n",
              "      <td>we won!!! love the land!!! #allin #cavs #champ...</td>\n",
              "    </tr>\n",
              "    <tr>\n",
              "      <th>9</th>\n",
              "      <td>10</td>\n",
              "      <td>0</td>\n",
              "      <td>@user @user welcome here !  i'm   it's so #gr...</td>\n",
              "    </tr>\n",
              "  </tbody>\n",
              "</table>\n",
              "</div>"
            ],
            "text/plain": [
              "   id  label                                              tweet\n",
              "0   1      0   @user when a father is dysfunctional and is s...\n",
              "1   2      0  @user @user thanks for #lyft credit i can't us...\n",
              "2   3      0                                bihday your majesty\n",
              "3   4      0  #model   i love u take with u all the time in ...\n",
              "4   5      0             factsguide: society now    #motivation\n",
              "5   6      0  [2/2] huge fan fare and big talking before the...\n",
              "6   7      0   @user camping tomorrow @user @user @user @use...\n",
              "7   8      0  the next school year is the year for exams.ð...\n",
              "8   9      0  we won!!! love the land!!! #allin #cavs #champ...\n",
              "9  10      0   @user @user welcome here !  i'm   it's so #gr..."
            ]
          },
          "metadata": {
            "tags": []
          },
          "execution_count": 28
        }
      ]
    },
    {
      "cell_type": "code",
      "metadata": {
        "id": "gx38OkGYr_GB"
      },
      "source": [
        "import pandas as pd\n",
        "from sklearn.feature_extraction.text import TfidfVectorizer\n",
        "\n",
        "vectorizer = TfidfVectorizer(analyzer=clean_tweets)"
      ],
      "execution_count": 29,
      "outputs": []
    },
    {
      "cell_type": "code",
      "metadata": {
        "colab": {
          "base_uri": "https://localhost:8080/"
        },
        "id": "RxbqSusKsBzU",
        "outputId": "767db9d1-edcf-420b-f7ce-d32ec18b3dd2"
      },
      "source": [
        "X = vectorizer.fit_transform(sample_data['tweet'])\n",
        "print(X.shape)"
      ],
      "execution_count": 30,
      "outputs": [
        {
          "output_type": "stream",
          "text": [
            "(10, 26)\n"
          ],
          "name": "stdout"
        }
      ]
    },
    {
      "cell_type": "code",
      "metadata": {
        "colab": {
          "base_uri": "https://localhost:8080/",
          "height": 142
        },
        "id": "aAMOVpvCsE5u",
        "outputId": "cc279ff5-ff0f-405a-c517-fa9d989cd8c6"
      },
      "source": [
        "df = pd.DataFrame(data.toarray(),columns=tfidf_vect.get_feature_names())\n",
        "df.head(10)"
      ],
      "execution_count": 31,
      "outputs": [
        {
          "output_type": "execute_result",
          "data": {
            "text/html": [
              "<div>\n",
              "<style scoped>\n",
              "    .dataframe tbody tr th:only-of-type {\n",
              "        vertical-align: middle;\n",
              "    }\n",
              "\n",
              "    .dataframe tbody tr th {\n",
              "        vertical-align: top;\n",
              "    }\n",
              "\n",
              "    .dataframe thead th {\n",
              "        text-align: right;\n",
              "    }\n",
              "</style>\n",
              "<table border=\"1\" class=\"dataframe\">\n",
              "  <thead>\n",
              "    <tr style=\"text-align: right;\">\n",
              "      <th></th>\n",
              "      <th>another</th>\n",
              "      <th>document</th>\n",
              "      <th>here</th>\n",
              "      <th>is</th>\n",
              "      <th>sentence</th>\n",
              "      <th>third</th>\n",
              "      <th>this</th>\n",
              "    </tr>\n",
              "  </thead>\n",
              "  <tbody>\n",
              "    <tr>\n",
              "      <th>0</th>\n",
              "      <td>0.000000</td>\n",
              "      <td>0.000000</td>\n",
              "      <td>0.000000</td>\n",
              "      <td>0.739411</td>\n",
              "      <td>0.476063</td>\n",
              "      <td>0.000000</td>\n",
              "      <td>0.476063</td>\n",
              "    </tr>\n",
              "    <tr>\n",
              "      <th>1</th>\n",
              "      <td>0.631745</td>\n",
              "      <td>0.000000</td>\n",
              "      <td>0.000000</td>\n",
              "      <td>0.373119</td>\n",
              "      <td>0.480458</td>\n",
              "      <td>0.000000</td>\n",
              "      <td>0.480458</td>\n",
              "    </tr>\n",
              "    <tr>\n",
              "      <th>2</th>\n",
              "      <td>0.000000</td>\n",
              "      <td>0.546454</td>\n",
              "      <td>0.546454</td>\n",
              "      <td>0.322745</td>\n",
              "      <td>0.000000</td>\n",
              "      <td>0.546454</td>\n",
              "      <td>0.000000</td>\n",
              "    </tr>\n",
              "  </tbody>\n",
              "</table>\n",
              "</div>"
            ],
            "text/plain": [
              "    another  document      here        is  sentence     third      this\n",
              "0  0.000000  0.000000  0.000000  0.739411  0.476063  0.000000  0.476063\n",
              "1  0.631745  0.000000  0.000000  0.373119  0.480458  0.000000  0.480458\n",
              "2  0.000000  0.546454  0.546454  0.322745  0.000000  0.546454  0.000000"
            ]
          },
          "metadata": {
            "tags": []
          },
          "execution_count": 31
        }
      ]
    },
    {
      "cell_type": "code",
      "metadata": {
        "id": "gRbSKZNGsIjG"
      },
      "source": [
        "from sklearn.model_selection import train_test_split\n",
        "\n",
        "# extract the labels from the train data\n",
        "y = x.label.values\n",
        "\n",
        "# use 70% for the training and 30% for the test\n",
        "x_train, x_test, y_train, y_test = train_test_split(x.clean_tweet.values, y, \n",
        "                                                    stratify=y, \n",
        "                                                    random_state=1, \n",
        "                                                    test_size=0.3, shuffle=True)"
      ],
      "execution_count": 32,
      "outputs": []
    },
    {
      "cell_type": "code",
      "metadata": {
        "id": "wsOvRh7HsMJs"
      },
      "source": [
        "import pandas as pd\n",
        "from sklearn.feature_extraction.text import TfidfVectorizer"
      ],
      "execution_count": 33,
      "outputs": []
    },
    {
      "cell_type": "code",
      "metadata": {
        "id": "uUJQ22NusOWH"
      },
      "source": [
        "from sklearn.feature_extraction.text import CountVectorizer"
      ],
      "execution_count": 34,
      "outputs": []
    },
    {
      "cell_type": "code",
      "metadata": {
        "id": "we-n-w-3sQos"
      },
      "source": [
        "vect = CountVectorizer(stop_words='english')\n",
        "x_train_vect = vect.fit_transform(x_train)\n",
        "x_test_vect = vect.transform(x_test)"
      ],
      "execution_count": 35,
      "outputs": []
    },
    {
      "cell_type": "code",
      "metadata": {
        "colab": {
          "base_uri": "https://localhost:8080/"
        },
        "id": "_Z1acbD9sTs_",
        "outputId": "d58a83be-f6d8-4129-c63f-753bcd2d0883"
      },
      "source": [
        "from sklearn import svm\n",
        "from sklearn.svm import SVC\n",
        "model = svm.SVC()\n",
        "model.fit(x_train_vect,y_train)\n",
        "SVC()"
      ],
      "execution_count": 36,
      "outputs": [
        {
          "output_type": "execute_result",
          "data": {
            "text/plain": [
              "SVC(C=1.0, break_ties=False, cache_size=200, class_weight=None, coef0=0.0,\n",
              "    decision_function_shape='ovr', degree=3, gamma='scale', kernel='rbf',\n",
              "    max_iter=-1, probability=False, random_state=None, shrinking=True,\n",
              "    tol=0.001, verbose=False)"
            ]
          },
          "metadata": {
            "tags": []
          },
          "execution_count": 36
        }
      ]
    },
    {
      "cell_type": "code",
      "metadata": {
        "id": "3dngB7VmsWRt"
      },
      "source": [
        "y_pred = model.predict(x_test_vect)"
      ],
      "execution_count": 37,
      "outputs": []
    },
    {
      "cell_type": "code",
      "metadata": {
        "colab": {
          "base_uri": "https://localhost:8080/"
        },
        "id": "Y8MZ7z6CsYq1",
        "outputId": "da2c9387-b6bf-48ca-de47-a6115b9bef46"
      },
      "source": [
        "from sklearn.metrics import accuracy_score,classification_report\n",
        "accuracy_score(y_pred,y_test)"
      ],
      "execution_count": 38,
      "outputs": [
        {
          "output_type": "execute_result",
          "data": {
            "text/plain": [
              "0.9491083533215142"
            ]
          },
          "metadata": {
            "tags": []
          },
          "execution_count": 38
        }
      ]
    },
    {
      "cell_type": "code",
      "metadata": {
        "id": "IrASdO8ZsgLA"
      },
      "source": [
        "from sklearn.metrics import confusion_matrix\n",
        "from sklearn.metrics import accuracy_score\n",
        "from sklearn.metrics import classification_report\n",
        "from sklearn import metrics\n",
        "from sklearn.metrics import mean_squared_error,mean_absolute_error\n",
        "from sklearn.metrics import r2_score"
      ],
      "execution_count": 41,
      "outputs": []
    },
    {
      "cell_type": "code",
      "metadata": {
        "colab": {
          "base_uri": "https://localhost:8080/",
          "height": 282
        },
        "id": "cDjFdVZ4sjFH",
        "outputId": "d240568a-8c45-4f13-e0f1-344322151f14"
      },
      "source": [
        "confusion_matrix = confusion_matrix(y_test,y_pred)\n",
        "sns.heatmap(confusion_matrix/np.sum(confusion_matrix), annot=True, \n",
        "            fmt='.2%', cmap='Blues')"
      ],
      "execution_count": 42,
      "outputs": [
        {
          "output_type": "execute_result",
          "data": {
            "text/plain": [
              "<matplotlib.axes._subplots.AxesSubplot at 0x7fee1a494a50>"
            ]
          },
          "metadata": {
            "tags": []
          },
          "execution_count": 42
        },
        {
          "output_type": "display_data",
          "data": {
            "image/png": "[encoded data removed]",
            "text/plain": [
              "<Figure size 432x288 with 2 Axes>"
            ]
          },
          "metadata": {
            "tags": [],
            "needs_background": "light"
          }
        }
      ]
    },
    {
      "cell_type": "code",
      "metadata": {
        "colab": {
          "base_uri": "https://localhost:8080/"
        },
        "id": "6_knn7Eyslyk",
        "outputId": "cd29c431-ea64-4a16-9f13-7393a4d4e830"
      },
      "source": [
        "print(classification_report(y_test,y_pred))"
      ],
      "execution_count": 43,
      "outputs": [
        {
          "output_type": "stream",
          "text": [
            "              precision    recall  f1-score   support\n",
            "\n",
            "           0       0.95      1.00      0.97      8916\n",
            "           1       0.93      0.30      0.45       673\n",
            "\n",
            "    accuracy                           0.95      9589\n",
            "   macro avg       0.94      0.65      0.71      9589\n",
            "weighted avg       0.95      0.95      0.94      9589\n",
            "\n"
          ],
          "name": "stdout"
        }
      ]
    },
    {
      "cell_type": "code",
      "metadata": {
        "colab": {
          "base_uri": "https://localhost:8080/"
        },
        "id": "UKXwWN3_spC7",
        "outputId": "3220f816-dffb-4ca3-c5f4-888659d004c4"
      },
      "source": [
        "from sklearn.pipeline import make_pipeline\n",
        "text_model = make_pipeline(CountVectorizer(),SVC())\n",
        "\n",
        "text_model.fit(x_train,y_train)\n",
        "\n",
        "y_pred1 = text_model.predict(x_test)\n",
        "y_pred1"
      ],
      "execution_count": 44,
      "outputs": [
        {
          "output_type": "execute_result",
          "data": {
            "text/plain": [
              "array([0, 0, 0, ..., 0, 0, 1])"
            ]
          },
          "metadata": {
            "tags": []
          },
          "execution_count": 44
        }
      ]
    },
    {
      "cell_type": "code",
      "metadata": {
        "colab": {
          "base_uri": "https://localhost:8080/"
        },
        "id": "mMIsrklgssId",
        "outputId": "1a697c24-e7ab-4bc1-cac0-d360aa2f7519"
      },
      "source": [
        "text_model"
      ],
      "execution_count": 45,
      "outputs": [
        {
          "output_type": "execute_result",
          "data": {
            "text/plain": [
              "Pipeline(memory=None,\n",
              "         steps=[('countvectorizer',\n",
              "                 CountVectorizer(analyzer='word', binary=False,\n",
              "                                 decode_error='strict',\n",
              "                                 dtype=<class 'numpy.int64'>, encoding='utf-8',\n",
              "                                 input='content', lowercase=True, max_df=1.0,\n",
              "                                 max_features=None, min_df=1,\n",
              "                                 ngram_range=(1, 1), preprocessor=None,\n",
              "                                 stop_words=None, strip_accents=None,\n",
              "                                 token_pattern='(?u)\\\\b\\\\w\\\\w+\\\\b',\n",
              "                                 tokenizer=None, vocabulary=None)),\n",
              "                ('svc',\n",
              "                 SVC(C=1.0, break_ties=False, cache_size=200, class_weight=None,\n",
              "                     coef0=0.0, decision_function_shape='ovr', degree=3,\n",
              "                     gamma='scale', kernel='rbf', max_iter=-1,\n",
              "                     probability=False, random_state=None, shrinking=True,\n",
              "                     tol=0.001, verbose=False))],\n",
              "         verbose=False)"
            ]
          },
          "metadata": {
            "tags": []
          },
          "execution_count": 45
        }
      ]
    },
    {
      "cell_type": "code",
      "metadata": {
        "colab": {
          "base_uri": "https://localhost:8080/"
        },
        "id": "wSr5mBECsvCI",
        "outputId": "318cf024-3616-417f-f4fe-1c4bdc19c8f1"
      },
      "source": [
        "import joblib\n",
        "joblib.dump(text_model,'Sentiment_Analyser')"
      ],
      "execution_count": 46,
      "outputs": [
        {
          "output_type": "execute_result",
          "data": {
            "text/plain": [
              "['Sentiment_Analyser']"
            ]
          },
          "metadata": {
            "tags": []
          },
          "execution_count": 46
        }
      ]
    },
    {
      "cell_type": "code",
      "metadata": {
        "colab": {
          "base_uri": "https://localhost:8080/"
        },
        "id": "7Tmilofhszft",
        "outputId": "7f7bd545-cebf-4456-c3aa-c3b749dad53e"
      },
      "source": [
        "!pip install streamlit --quiet\n",
        "!pip install pyngrok==4.1.1\n",
        "from pyngrok import ngrok"
      ],
      "execution_count": 47,
      "outputs": [
        {
          "output_type": "stream",
          "text": [
            "\u001b[K     |████████████████████████████████| 7.8MB 3.5MB/s \n",
            "\u001b[K     |████████████████████████████████| 174kB 57.9MB/s \n",
            "\u001b[K     |████████████████████████████████| 4.2MB 15.0MB/s \n",
            "\u001b[K     |████████████████████████████████| 112kB 37.7MB/s \n",
            "\u001b[K     |████████████████████████████████| 81kB 8.5MB/s \n",
            "\u001b[K     |████████████████████████████████| 71kB 8.2MB/s \n",
            "\u001b[K     |████████████████████████████████| 122kB 54.7MB/s \n",
            "\u001b[K     |████████████████████████████████| 788kB 53.2MB/s \n",
            "\u001b[K     |████████████████████████████████| 368kB 49.3MB/s \n",
            "\u001b[?25h  Building wheel for blinker (setup.py) ... \u001b[?25l\u001b[?25hdone\n",
            "\u001b[31mERROR: jupyter-console 5.2.0 has requirement prompt-toolkit<2.0.0,>=1.0.0, but you'll have prompt-toolkit 3.0.19 which is incompatible.\u001b[0m\n",
            "\u001b[31mERROR: google-colab 1.0.0 has requirement ipykernel~=4.10, but you'll have ipykernel 6.0.1 which is incompatible.\u001b[0m\n",
            "\u001b[31mERROR: google-colab 1.0.0 has requirement ipython~=5.5.0, but you'll have ipython 7.25.0 which is incompatible.\u001b[0m\n",
            "Collecting pyngrok==4.1.1\n",
            "  Downloading https://files.pythonhosted.org/packages/e4/a9/de2e15c92eb3aa4a2646ce3a7542317eb69ac47f667578ce8bf916320847/pyngrok-4.1.1.tar.gz\n",
            "Requirement already satisfied: future in /usr/local/lib/python3.7/dist-packages (from pyngrok==4.1.1) (0.16.0)\n",
            "Requirement already satisfied: PyYAML in /usr/local/lib/python3.7/dist-packages (from pyngrok==4.1.1) (3.13)\n",
            "Building wheels for collected packages: pyngrok\n",
            "  Building wheel for pyngrok (setup.py) ... \u001b[?25l\u001b[?25hdone\n",
            "  Created wheel for pyngrok: filename=pyngrok-4.1.1-cp37-none-any.whl size=15985 sha256=0c5b6708d0654f2f2e1e3631db0d5fb943a6534138d87f5486c1a21cc6937335\n",
            "  Stored in directory: /root/.cache/pip/wheels/97/71/0d/1695f7c8815c0beb3b5d9b35d6eec9243c87e6070fbe3977fa\n",
            "Successfully built pyngrok\n",
            "Installing collected packages: pyngrok\n",
            "Successfully installed pyngrok-4.1.1\n"
          ],
          "name": "stdout"
        }
      ]
    },
    {
      "cell_type": "code",
      "metadata": {
        "colab": {
          "base_uri": "https://localhost:8080/"
        },
        "id": "POX9tjVEs3iL",
        "outputId": "dc040509-1835-4712-8739-d8db9749df76"
      },
      "source": [
        "%%writefile app.py\n",
        "import streamlit as st\n",
        "import joblib\n",
        "st.title('Sentiment_Analyzer - Tweet_Reviews')\n",
        "test_model = joblib.load('Sentiment_Analyser')\n",
        "ip = st.text_input('Enter your message')\n",
        "op = test_model.predict([ip])\n",
        "if st.button('Predict'):\n",
        "  st.title(op[0])\n",
        "if (op==0):\n",
        "  st.title('POSITIVE')\n",
        "else :\n",
        "  st.title('NEGATIVE')\n"
      ],
      "execution_count": 48,
      "outputs": [
        {
          "output_type": "stream",
          "text": [
            "Writing app.py\n"
          ],
          "name": "stdout"
        }
      ]
    },
    {
      "cell_type": "code",
      "metadata": {
        "colab": {
          "base_uri": "https://localhost:8080/",
          "height": 52
        },
        "id": "d_EKGmEus6Iy",
        "outputId": "0dda961c-7c9a-4810-d610-fd4de541706e"
      },
      "source": [
        "!nohup streamlit run app.py &\n",
        "url = ngrok.connect(port='8501')\n",
        "url"
      ],
      "execution_count": 49,
      "outputs": [
        {
          "output_type": "stream",
          "text": [
            "nohup: appending output to 'nohup.out'\n"
          ],
          "name": "stdout"
        },
        {
          "output_type": "execute_result",
          "data": {
            "application/vnd.google.colaboratory.intrinsic+json": {
              "type": "string"
            },
            "text/plain": [
              "'http://f8a1a3d161bc.ngrok.io'"
            ]
          },
          "metadata": {
            "tags": []
          },
          "execution_count": 49
        }
      ]
    }
  ]
}